{
 "cells": [
  {
   "cell_type": "code",
   "execution_count": 1,
   "id": "022ea70f-855c-40f7-991d-f2b85fdd6482",
   "metadata": {
    "tags": []
   },
   "outputs": [],
   "source": [
    "import enum\n",
    "import pathlib\n",
    "from typing import TypeAlias\n",
    "from dataclasses import dataclass\n",
    "\n",
    "from sqlalchemy import (\n",
    "    Column,\n",
    "    Enum,\n",
    "    Integer,\n",
    "    String,\n",
    "    Table\n",
    ")\n",
    "from sqlalchemy.orm import registry\n",
    "\n",
    "import vocalpy as voc"
   ]
  },
  {
   "cell_type": "code",
   "execution_count": 2,
   "id": "79121e33-283b-4d33-8f7e-9323032674a7",
   "metadata": {
    "tags": []
   },
   "outputs": [
    {
     "name": "stdout",
     "output_type": "stream",
     "text": [
      "/Users/davidnicholson/Documents/repos/coding/vocalpy/vocalpy\n"
     ]
    }
   ],
   "source": [
    "cd /Users/davidnicholson/Documents/repos/coding/vocalpy/vocalpy"
   ]
  },
  {
   "cell_type": "code",
   "execution_count": 3,
   "id": "60773785-b30a-42a5-a736-877869c86c74",
   "metadata": {
    "tags": []
   },
   "outputs": [],
   "source": [
    "@dataclass\n",
    "class AudioFile:\n",
    "    path: pathlib.Path"
   ]
  },
  {
   "cell_type": "code",
   "execution_count": 4,
   "id": "9dae611f-a62a-42ca-a895-4aaffcc2523c",
   "metadata": {
    "tags": []
   },
   "outputs": [],
   "source": [
    "@dataclass\n",
    "class SpectrogramParameters:\n",
    "    fft_size: int\n",
    "    step_size: int"
   ]
  },
  {
   "cell_type": "code",
   "execution_count": 5,
   "id": "c1f3393c-7def-49eb-a94c-6ec1e367ba06",
   "metadata": {
    "tags": []
   },
   "outputs": [],
   "source": [
    "@dataclass\n",
    "class SpectrogramFile:\n",
    "    path: pathlib.Path\n",
    "    spectrogram_parameters: SpectrogramParameters\n",
    "    source_audio_file: AudioFile"
   ]
  },
  {
   "cell_type": "code",
   "execution_count": 6,
   "id": "24085045-c9a5-4e91-8abe-d2920a6858f5",
   "metadata": {
    "tags": []
   },
   "outputs": [],
   "source": [
    "AnnotatedFile: TypeAlias = AudioFile | SpectrogramFile\n",
    "\n",
    "@dataclass\n",
    "class AnnotationFile:\n",
    "    path: pathlib.Path\n",
    "    annotates: AnnotatedFile"
   ]
  },
  {
   "cell_type": "code",
   "execution_count": 7,
   "id": "26d2c520-4d87-4e63-acfd-49d9a3e0de94",
   "metadata": {
    "tags": []
   },
   "outputs": [],
   "source": [
    "SourceFile: TypeAlias = AudioFile | SpectrogramFile | AnnotationFile\n",
    "\n",
    "@dataclass\n",
    "class FeatureFile:\n",
    "    path: pathlib.Path\n",
    "    source_file: SourceFile"
   ]
  },
  {
   "cell_type": "code",
   "execution_count": 8,
   "id": "41a6f12b-f29f-4f47-a9aa-cc18d3a25b61",
   "metadata": {
    "tags": []
   },
   "outputs": [],
   "source": [
    "class DatasetFileTypeEnum(enum.Enum):\n",
    "    AudioFile = AudioFile\n",
    "    SpectrogramFile = SpectrogramFile\n",
    "    AnnotationFile = AnnotatedFile\n",
    "    FeatureFile = FeatureFile\n",
    "\n",
    "\n",
    "@dataclass\n",
    "class DatasetFile:\n",
    "    path: pathlib.Path\n",
    "    filetype: DatasetFileTypeEnum"
   ]
  },
  {
   "cell_type": "code",
   "execution_count": 9,
   "id": "1e5b3659-e120-4b92-82ff-b758760ad083",
   "metadata": {
    "tags": []
   },
   "outputs": [],
   "source": [
    "mapper_registry = registry()"
   ]
  },
  {
   "cell_type": "code",
   "execution_count": 10,
   "id": "d9cb617d-5f2f-43ed-ab4b-87d9bd30e461",
   "metadata": {
    "tags": []
   },
   "outputs": [],
   "source": [
    "dataset_file_table = Table(\n",
    "    \"dataset_file\",\n",
    "    mapper_registry.metadata,\n",
    "    Column('id', Integer, primary_key=True),\n",
    "    Column('filetype', Enum(DatasetFileTypeEnum)),\n",
    "    Column('path', String),\n",
    ")"
   ]
  },
  {
   "cell_type": "code",
   "execution_count": 11,
   "id": "23d25308-9d69-433e-a2b0-bdac4628a5e5",
   "metadata": {
    "tags": []
   },
   "outputs": [
    {
     "data": {
      "text/plain": [
       "<Mapper at 0x124ceccd0; DatasetFile>"
      ]
     },
     "execution_count": 11,
     "metadata": {},
     "output_type": "execute_result"
    }
   ],
   "source": [
    "mapper_registry.map_imperatively(DatasetFile, dataset_file_table)"
   ]
  },
  {
   "cell_type": "code",
   "execution_count": 12,
   "id": "36f74224-b3b8-49a9-a834-5663602acf98",
   "metadata": {
    "tags": []
   },
   "outputs": [
    {
     "name": "stdout",
     "output_type": "stream",
     "text": [
      "2023-04-18 21:08:17,208 INFO sqlalchemy.engine.Engine BEGIN (implicit)\n",
      "2023-04-18 21:08:17,209 INFO sqlalchemy.engine.Engine PRAGMA main.table_info(\"dataset_file\")\n",
      "2023-04-18 21:08:17,209 INFO sqlalchemy.engine.Engine [raw sql] ()\n",
      "2023-04-18 21:08:17,211 INFO sqlalchemy.engine.Engine PRAGMA temp.table_info(\"dataset_file\")\n",
      "2023-04-18 21:08:17,212 INFO sqlalchemy.engine.Engine [raw sql] ()\n",
      "2023-04-18 21:08:17,213 INFO sqlalchemy.engine.Engine \n",
      "CREATE TABLE dataset_file (\n",
      "\tid INTEGER NOT NULL, \n",
      "\tfiletype VARCHAR(15), \n",
      "\tpath VARCHAR, \n",
      "\tPRIMARY KEY (id)\n",
      ")\n",
      "\n",
      "\n",
      "2023-04-18 21:08:17,214 INFO sqlalchemy.engine.Engine [no key 0.00118s] ()\n",
      "2023-04-18 21:08:17,217 INFO sqlalchemy.engine.Engine COMMIT\n"
     ]
    }
   ],
   "source": [
    "from sqlalchemy import create_engine\n",
    "from sqlalchemy.orm import sessionmaker\n",
    "\n",
    "engine = create_engine(\"sqlite+pysqlite:///:memory:\", echo=True, future=True)\n",
    "Session = sessionmaker()\n",
    "Session.configure(bind=engine)\n",
    "session = Session()\n",
    "\n",
    "mapper_registry.metadata.create_all(engine)"
   ]
  },
  {
   "cell_type": "code",
   "execution_count": 13,
   "id": "b5296a9c-7630-4e6d-b788-52b4cda4dbbc",
   "metadata": {
    "tags": []
   },
   "outputs": [],
   "source": [
    "cbin_paths = voc.paths.from_dir('./tests/data-for-tests/source/audio_cbin_annot_notmat/gy6or6/032312/', 'cbin')\n",
    "audio_files = [AudioFile(path=cbin_path) for cbin_path in cbin_paths]"
   ]
  },
  {
   "cell_type": "code",
   "execution_count": 14,
   "id": "9b68d2e4-7bb8-4030-9264-d134d312d0bc",
   "metadata": {
    "tags": []
   },
   "outputs": [],
   "source": [
    "dataset_files = []\n",
    "for audio_file in audio_files:\n",
    "    dataset_file = DatasetFile(\n",
    "        # file=audio_file,\n",
    "        filetype=DatasetFileTypeEnum(type(audio_file)),\n",
    "        path=audio_file.path\n",
    "    )\n",
    "    dataset_files.append(dataset_file)"
   ]
  },
  {
   "cell_type": "code",
   "execution_count": 15,
   "id": "6671d6b0-db39-4bc9-8d06-45f32c7445b2",
   "metadata": {
    "tags": []
   },
   "outputs": [
    {
     "data": {
      "text/plain": [
       "DatasetFile(path=PosixPath('tests/data-for-tests/source/audio_cbin_annot_notmat/gy6or6/032312/gy6or6_baseline_230312_0808.138.cbin'), filetype=<DatasetFileTypeEnum.AudioFile: <class '__main__.AudioFile'>>)"
      ]
     },
     "execution_count": 15,
     "metadata": {},
     "output_type": "execute_result"
    }
   ],
   "source": [
    "dataset_files[0]"
   ]
  },
  {
   "cell_type": "code",
   "execution_count": 16,
   "id": "46f07427-ce12-44d8-9beb-f9f400a7d2cb",
   "metadata": {
    "tags": []
   },
   "outputs": [],
   "source": [
    "session.add(dataset_files[0])"
   ]
  },
  {
   "cell_type": "code",
   "execution_count": 17,
   "id": "5d2ec3d4-286c-4f4f-95f5-012d2e09d6c7",
   "metadata": {
    "tags": []
   },
   "outputs": [
    {
     "name": "stdout",
     "output_type": "stream",
     "text": [
      "2023-04-18 21:08:30,496 INFO sqlalchemy.engine.Engine BEGIN (implicit)\n",
      "2023-04-18 21:08:30,499 INFO sqlalchemy.engine.Engine INSERT INTO dataset_file (filetype, path) VALUES (?, ?)\n",
      "2023-04-18 21:08:30,501 INFO sqlalchemy.engine.Engine [generated in 0.00168s] ('AudioFile', PosixPath('tests/data-for-tests/source/audio_cbin_annot_notmat/gy6or6/032312/gy6or6_baseline_230312_0808.138.cbin'))\n",
      "2023-04-18 21:08:30,502 INFO sqlalchemy.engine.Engine ROLLBACK\n"
     ]
    },
    {
     "ename": "InterfaceError",
     "evalue": "(raised as a result of Query-invoked autoflush; consider using a session.no_autoflush block if this flush is occurring prematurely)\n(sqlite3.InterfaceError) Error binding parameter 1 - probably unsupported type.\n[SQL: INSERT INTO dataset_file (filetype, path) VALUES (?, ?)]\n[parameters: ('AudioFile', PosixPath('tests/data-for-tests/source/audio_cbin_annot_notmat/gy6or6/032312/gy6or6_baseline_230312_0808.138.cbin'))]\n(Background on this error at: https://sqlalche.me/e/14/rvf5)",
     "output_type": "error",
     "traceback": [
      "\u001B[0;31m---------------------------------------------------------------------------\u001B[0m",
      "\u001B[0;31mInterfaceError\u001B[0m                            Traceback (most recent call last)",
      "File \u001B[0;32m~/Documents/repos/coding/vocalpy/vocalpy/.venv/lib/python3.10/site-packages/sqlalchemy/engine/base.py:1900\u001B[0m, in \u001B[0;36mConnection._execute_context\u001B[0;34m(self, dialect, constructor, statement, parameters, execution_options, *args, **kw)\u001B[0m\n\u001B[1;32m   1899\u001B[0m     \u001B[38;5;28;01mif\u001B[39;00m \u001B[38;5;129;01mnot\u001B[39;00m evt_handled:\n\u001B[0;32m-> 1900\u001B[0m         \u001B[38;5;28;43mself\u001B[39;49m\u001B[38;5;241;43m.\u001B[39;49m\u001B[43mdialect\u001B[49m\u001B[38;5;241;43m.\u001B[39;49m\u001B[43mdo_execute\u001B[49m\u001B[43m(\u001B[49m\n\u001B[1;32m   1901\u001B[0m \u001B[43m            \u001B[49m\u001B[43mcursor\u001B[49m\u001B[43m,\u001B[49m\u001B[43m \u001B[49m\u001B[43mstatement\u001B[49m\u001B[43m,\u001B[49m\u001B[43m \u001B[49m\u001B[43mparameters\u001B[49m\u001B[43m,\u001B[49m\u001B[43m \u001B[49m\u001B[43mcontext\u001B[49m\n\u001B[1;32m   1902\u001B[0m \u001B[43m        \u001B[49m\u001B[43m)\u001B[49m\n\u001B[1;32m   1904\u001B[0m \u001B[38;5;28;01mif\u001B[39;00m \u001B[38;5;28mself\u001B[39m\u001B[38;5;241m.\u001B[39m_has_events \u001B[38;5;129;01mor\u001B[39;00m \u001B[38;5;28mself\u001B[39m\u001B[38;5;241m.\u001B[39mengine\u001B[38;5;241m.\u001B[39m_has_events:\n",
      "File \u001B[0;32m~/Documents/repos/coding/vocalpy/vocalpy/.venv/lib/python3.10/site-packages/sqlalchemy/engine/default.py:736\u001B[0m, in \u001B[0;36mDefaultDialect.do_execute\u001B[0;34m(self, cursor, statement, parameters, context)\u001B[0m\n\u001B[1;32m    735\u001B[0m \u001B[38;5;28;01mdef\u001B[39;00m \u001B[38;5;21mdo_execute\u001B[39m(\u001B[38;5;28mself\u001B[39m, cursor, statement, parameters, context\u001B[38;5;241m=\u001B[39m\u001B[38;5;28;01mNone\u001B[39;00m):\n\u001B[0;32m--> 736\u001B[0m     \u001B[43mcursor\u001B[49m\u001B[38;5;241;43m.\u001B[39;49m\u001B[43mexecute\u001B[49m\u001B[43m(\u001B[49m\u001B[43mstatement\u001B[49m\u001B[43m,\u001B[49m\u001B[43m \u001B[49m\u001B[43mparameters\u001B[49m\u001B[43m)\u001B[49m\n",
      "\u001B[0;31mInterfaceError\u001B[0m: Error binding parameter 1 - probably unsupported type.",
      "\nThe above exception was the direct cause of the following exception:\n",
      "\u001B[0;31mInterfaceError\u001B[0m                            Traceback (most recent call last)",
      "Cell \u001B[0;32mIn[17], line 1\u001B[0m\n\u001B[0;32m----> 1\u001B[0m \u001B[43msession\u001B[49m\u001B[38;5;241;43m.\u001B[39;49m\u001B[43mquery\u001B[49m\u001B[43m(\u001B[49m\u001B[43mDatasetFile\u001B[49m\u001B[43m)\u001B[49m\u001B[38;5;241;43m.\u001B[39;49m\u001B[43mfirst\u001B[49m\u001B[43m(\u001B[49m\u001B[43m)\u001B[49m\n",
      "File \u001B[0;32m~/Documents/repos/coding/vocalpy/vocalpy/.venv/lib/python3.10/site-packages/sqlalchemy/orm/query.py:2824\u001B[0m, in \u001B[0;36mQuery.first\u001B[0;34m(self)\u001B[0m\n\u001B[1;32m   2822\u001B[0m     \u001B[38;5;28;01mreturn\u001B[39;00m \u001B[38;5;28mself\u001B[39m\u001B[38;5;241m.\u001B[39m_iter()\u001B[38;5;241m.\u001B[39mfirst()\n\u001B[1;32m   2823\u001B[0m \u001B[38;5;28;01melse\u001B[39;00m:\n\u001B[0;32m-> 2824\u001B[0m     \u001B[38;5;28;01mreturn\u001B[39;00m \u001B[38;5;28;43mself\u001B[39;49m\u001B[38;5;241;43m.\u001B[39;49m\u001B[43mlimit\u001B[49m\u001B[43m(\u001B[49m\u001B[38;5;241;43m1\u001B[39;49m\u001B[43m)\u001B[49m\u001B[38;5;241;43m.\u001B[39;49m\u001B[43m_iter\u001B[49m\u001B[43m(\u001B[49m\u001B[43m)\u001B[49m\u001B[38;5;241m.\u001B[39mfirst()\n",
      "File \u001B[0;32m~/Documents/repos/coding/vocalpy/vocalpy/.venv/lib/python3.10/site-packages/sqlalchemy/orm/query.py:2916\u001B[0m, in \u001B[0;36mQuery._iter\u001B[0;34m(self)\u001B[0m\n\u001B[1;32m   2913\u001B[0m params \u001B[38;5;241m=\u001B[39m \u001B[38;5;28mself\u001B[39m\u001B[38;5;241m.\u001B[39m_params\n\u001B[1;32m   2915\u001B[0m statement \u001B[38;5;241m=\u001B[39m \u001B[38;5;28mself\u001B[39m\u001B[38;5;241m.\u001B[39m_statement_20()\n\u001B[0;32m-> 2916\u001B[0m result \u001B[38;5;241m=\u001B[39m \u001B[38;5;28;43mself\u001B[39;49m\u001B[38;5;241;43m.\u001B[39;49m\u001B[43msession\u001B[49m\u001B[38;5;241;43m.\u001B[39;49m\u001B[43mexecute\u001B[49m\u001B[43m(\u001B[49m\n\u001B[1;32m   2917\u001B[0m \u001B[43m    \u001B[49m\u001B[43mstatement\u001B[49m\u001B[43m,\u001B[49m\n\u001B[1;32m   2918\u001B[0m \u001B[43m    \u001B[49m\u001B[43mparams\u001B[49m\u001B[43m,\u001B[49m\n\u001B[1;32m   2919\u001B[0m \u001B[43m    \u001B[49m\u001B[43mexecution_options\u001B[49m\u001B[38;5;241;43m=\u001B[39;49m\u001B[43m{\u001B[49m\u001B[38;5;124;43m\"\u001B[39;49m\u001B[38;5;124;43m_sa_orm_load_options\u001B[39;49m\u001B[38;5;124;43m\"\u001B[39;49m\u001B[43m:\u001B[49m\u001B[43m \u001B[49m\u001B[38;5;28;43mself\u001B[39;49m\u001B[38;5;241;43m.\u001B[39;49m\u001B[43mload_options\u001B[49m\u001B[43m}\u001B[49m\u001B[43m,\u001B[49m\n\u001B[1;32m   2920\u001B[0m \u001B[43m\u001B[49m\u001B[43m)\u001B[49m\n\u001B[1;32m   2922\u001B[0m \u001B[38;5;66;03m# legacy: automatically set scalars, unique\u001B[39;00m\n\u001B[1;32m   2923\u001B[0m \u001B[38;5;28;01mif\u001B[39;00m result\u001B[38;5;241m.\u001B[39m_attributes\u001B[38;5;241m.\u001B[39mget(\u001B[38;5;124m\"\u001B[39m\u001B[38;5;124mis_single_entity\u001B[39m\u001B[38;5;124m\"\u001B[39m, \u001B[38;5;28;01mFalse\u001B[39;00m):\n",
      "File \u001B[0;32m~/Documents/repos/coding/vocalpy/vocalpy/.venv/lib/python3.10/site-packages/sqlalchemy/orm/session.py:1662\u001B[0m, in \u001B[0;36mSession.execute\u001B[0;34m(self, statement, params, execution_options, bind_arguments, _parent_execute_state, _add_event, **kw)\u001B[0m\n\u001B[1;32m   1656\u001B[0m execution_options \u001B[38;5;241m=\u001B[39m util\u001B[38;5;241m.\u001B[39mcoerce_to_immutabledict(execution_options)\n\u001B[1;32m   1658\u001B[0m \u001B[38;5;28;01mif\u001B[39;00m compile_state_cls \u001B[38;5;129;01mis\u001B[39;00m \u001B[38;5;129;01mnot\u001B[39;00m \u001B[38;5;28;01mNone\u001B[39;00m:\n\u001B[1;32m   1659\u001B[0m     (\n\u001B[1;32m   1660\u001B[0m         statement,\n\u001B[1;32m   1661\u001B[0m         execution_options,\n\u001B[0;32m-> 1662\u001B[0m     ) \u001B[38;5;241m=\u001B[39m \u001B[43mcompile_state_cls\u001B[49m\u001B[38;5;241;43m.\u001B[39;49m\u001B[43morm_pre_session_exec\u001B[49m\u001B[43m(\u001B[49m\n\u001B[1;32m   1663\u001B[0m \u001B[43m        \u001B[49m\u001B[38;5;28;43mself\u001B[39;49m\u001B[43m,\u001B[49m\n\u001B[1;32m   1664\u001B[0m \u001B[43m        \u001B[49m\u001B[43mstatement\u001B[49m\u001B[43m,\u001B[49m\n\u001B[1;32m   1665\u001B[0m \u001B[43m        \u001B[49m\u001B[43mparams\u001B[49m\u001B[43m,\u001B[49m\n\u001B[1;32m   1666\u001B[0m \u001B[43m        \u001B[49m\u001B[43mexecution_options\u001B[49m\u001B[43m,\u001B[49m\n\u001B[1;32m   1667\u001B[0m \u001B[43m        \u001B[49m\u001B[43mbind_arguments\u001B[49m\u001B[43m,\u001B[49m\n\u001B[1;32m   1668\u001B[0m \u001B[43m        \u001B[49m\u001B[43m_parent_execute_state\u001B[49m\u001B[43m \u001B[49m\u001B[38;5;129;43;01mis\u001B[39;49;00m\u001B[43m \u001B[49m\u001B[38;5;129;43;01mnot\u001B[39;49;00m\u001B[43m \u001B[49m\u001B[38;5;28;43;01mNone\u001B[39;49;00m\u001B[43m,\u001B[49m\n\u001B[1;32m   1669\u001B[0m \u001B[43m    \u001B[49m\u001B[43m)\u001B[49m\n\u001B[1;32m   1670\u001B[0m \u001B[38;5;28;01melse\u001B[39;00m:\n\u001B[1;32m   1671\u001B[0m     bind_arguments\u001B[38;5;241m.\u001B[39msetdefault(\u001B[38;5;124m\"\u001B[39m\u001B[38;5;124mclause\u001B[39m\u001B[38;5;124m\"\u001B[39m, statement)\n",
      "File \u001B[0;32m~/Documents/repos/coding/vocalpy/vocalpy/.venv/lib/python3.10/site-packages/sqlalchemy/orm/context.py:312\u001B[0m, in \u001B[0;36mORMCompileState.orm_pre_session_exec\u001B[0;34m(cls, session, statement, params, execution_options, bind_arguments, is_reentrant_invoke)\u001B[0m\n\u001B[1;32m    309\u001B[0m         bind_arguments[\u001B[38;5;124m\"\u001B[39m\u001B[38;5;124mmapper\u001B[39m\u001B[38;5;124m\"\u001B[39m] \u001B[38;5;241m=\u001B[39m plugin_subject\u001B[38;5;241m.\u001B[39mmapper\n\u001B[1;32m    311\u001B[0m \u001B[38;5;28;01mif\u001B[39;00m load_options\u001B[38;5;241m.\u001B[39m_autoflush:\n\u001B[0;32m--> 312\u001B[0m     \u001B[43msession\u001B[49m\u001B[38;5;241;43m.\u001B[39;49m\u001B[43m_autoflush\u001B[49m\u001B[43m(\u001B[49m\u001B[43m)\u001B[49m\n\u001B[1;32m    314\u001B[0m \u001B[38;5;28;01mreturn\u001B[39;00m statement, execution_options\n",
      "File \u001B[0;32m~/Documents/repos/coding/vocalpy/vocalpy/.venv/lib/python3.10/site-packages/sqlalchemy/orm/session.py:2261\u001B[0m, in \u001B[0;36mSession._autoflush\u001B[0;34m(self)\u001B[0m\n\u001B[1;32m   2251\u001B[0m \u001B[38;5;28;01mexcept\u001B[39;00m sa_exc\u001B[38;5;241m.\u001B[39mStatementError \u001B[38;5;28;01mas\u001B[39;00m e:\n\u001B[1;32m   2252\u001B[0m     \u001B[38;5;66;03m# note we are reraising StatementError as opposed to\u001B[39;00m\n\u001B[1;32m   2253\u001B[0m     \u001B[38;5;66;03m# raising FlushError with \"chaining\" to remain compatible\u001B[39;00m\n\u001B[1;32m   2254\u001B[0m     \u001B[38;5;66;03m# with code that catches StatementError, IntegrityError,\u001B[39;00m\n\u001B[1;32m   2255\u001B[0m     \u001B[38;5;66;03m# etc.\u001B[39;00m\n\u001B[1;32m   2256\u001B[0m     e\u001B[38;5;241m.\u001B[39madd_detail(\n\u001B[1;32m   2257\u001B[0m         \u001B[38;5;124m\"\u001B[39m\u001B[38;5;124mraised as a result of Query-invoked autoflush; \u001B[39m\u001B[38;5;124m\"\u001B[39m\n\u001B[1;32m   2258\u001B[0m         \u001B[38;5;124m\"\u001B[39m\u001B[38;5;124mconsider using a session.no_autoflush block if this \u001B[39m\u001B[38;5;124m\"\u001B[39m\n\u001B[1;32m   2259\u001B[0m         \u001B[38;5;124m\"\u001B[39m\u001B[38;5;124mflush is occurring prematurely\u001B[39m\u001B[38;5;124m\"\u001B[39m\n\u001B[1;32m   2260\u001B[0m     )\n\u001B[0;32m-> 2261\u001B[0m     \u001B[43mutil\u001B[49m\u001B[38;5;241;43m.\u001B[39;49m\u001B[43mraise_\u001B[49m\u001B[43m(\u001B[49m\u001B[43me\u001B[49m\u001B[43m,\u001B[49m\u001B[43m \u001B[49m\u001B[43mwith_traceback\u001B[49m\u001B[38;5;241;43m=\u001B[39;49m\u001B[43msys\u001B[49m\u001B[38;5;241;43m.\u001B[39;49m\u001B[43mexc_info\u001B[49m\u001B[43m(\u001B[49m\u001B[43m)\u001B[49m\u001B[43m[\u001B[49m\u001B[38;5;241;43m2\u001B[39;49m\u001B[43m]\u001B[49m\u001B[43m)\u001B[49m\n",
      "File \u001B[0;32m~/Documents/repos/coding/vocalpy/vocalpy/.venv/lib/python3.10/site-packages/sqlalchemy/util/compat.py:211\u001B[0m, in \u001B[0;36mraise_\u001B[0;34m(***failed resolving arguments***)\u001B[0m\n\u001B[1;32m    208\u001B[0m     exception\u001B[38;5;241m.\u001B[39m__cause__ \u001B[38;5;241m=\u001B[39m replace_context\n\u001B[1;32m    210\u001B[0m \u001B[38;5;28;01mtry\u001B[39;00m:\n\u001B[0;32m--> 211\u001B[0m     \u001B[38;5;28;01mraise\u001B[39;00m exception\n\u001B[1;32m    212\u001B[0m \u001B[38;5;28;01mfinally\u001B[39;00m:\n\u001B[1;32m    213\u001B[0m     \u001B[38;5;66;03m# credit to\u001B[39;00m\n\u001B[1;32m    214\u001B[0m     \u001B[38;5;66;03m# https://cosmicpercolator.com/2016/01/13/exception-leaks-in-python-2-and-3/\u001B[39;00m\n\u001B[1;32m    215\u001B[0m     \u001B[38;5;66;03m# as the __traceback__ object creates a cycle\u001B[39;00m\n\u001B[1;32m    216\u001B[0m     \u001B[38;5;28;01mdel\u001B[39;00m exception, replace_context, from_, with_traceback\n",
      "File \u001B[0;32m~/Documents/repos/coding/vocalpy/vocalpy/.venv/lib/python3.10/site-packages/sqlalchemy/orm/session.py:2250\u001B[0m, in \u001B[0;36mSession._autoflush\u001B[0;34m(self)\u001B[0m\n\u001B[1;32m   2248\u001B[0m \u001B[38;5;28;01mif\u001B[39;00m \u001B[38;5;28mself\u001B[39m\u001B[38;5;241m.\u001B[39mautoflush \u001B[38;5;129;01mand\u001B[39;00m \u001B[38;5;129;01mnot\u001B[39;00m \u001B[38;5;28mself\u001B[39m\u001B[38;5;241m.\u001B[39m_flushing:\n\u001B[1;32m   2249\u001B[0m     \u001B[38;5;28;01mtry\u001B[39;00m:\n\u001B[0;32m-> 2250\u001B[0m         \u001B[38;5;28;43mself\u001B[39;49m\u001B[38;5;241;43m.\u001B[39;49m\u001B[43mflush\u001B[49m\u001B[43m(\u001B[49m\u001B[43m)\u001B[49m\n\u001B[1;32m   2251\u001B[0m     \u001B[38;5;28;01mexcept\u001B[39;00m sa_exc\u001B[38;5;241m.\u001B[39mStatementError \u001B[38;5;28;01mas\u001B[39;00m e:\n\u001B[1;32m   2252\u001B[0m         \u001B[38;5;66;03m# note we are reraising StatementError as opposed to\u001B[39;00m\n\u001B[1;32m   2253\u001B[0m         \u001B[38;5;66;03m# raising FlushError with \"chaining\" to remain compatible\u001B[39;00m\n\u001B[1;32m   2254\u001B[0m         \u001B[38;5;66;03m# with code that catches StatementError, IntegrityError,\u001B[39;00m\n\u001B[1;32m   2255\u001B[0m         \u001B[38;5;66;03m# etc.\u001B[39;00m\n\u001B[1;32m   2256\u001B[0m         e\u001B[38;5;241m.\u001B[39madd_detail(\n\u001B[1;32m   2257\u001B[0m             \u001B[38;5;124m\"\u001B[39m\u001B[38;5;124mraised as a result of Query-invoked autoflush; \u001B[39m\u001B[38;5;124m\"\u001B[39m\n\u001B[1;32m   2258\u001B[0m             \u001B[38;5;124m\"\u001B[39m\u001B[38;5;124mconsider using a session.no_autoflush block if this \u001B[39m\u001B[38;5;124m\"\u001B[39m\n\u001B[1;32m   2259\u001B[0m             \u001B[38;5;124m\"\u001B[39m\u001B[38;5;124mflush is occurring prematurely\u001B[39m\u001B[38;5;124m\"\u001B[39m\n\u001B[1;32m   2260\u001B[0m         )\n",
      "File \u001B[0;32m~/Documents/repos/coding/vocalpy/vocalpy/.venv/lib/python3.10/site-packages/sqlalchemy/orm/session.py:3446\u001B[0m, in \u001B[0;36mSession.flush\u001B[0;34m(self, objects)\u001B[0m\n\u001B[1;32m   3444\u001B[0m \u001B[38;5;28;01mtry\u001B[39;00m:\n\u001B[1;32m   3445\u001B[0m     \u001B[38;5;28mself\u001B[39m\u001B[38;5;241m.\u001B[39m_flushing \u001B[38;5;241m=\u001B[39m \u001B[38;5;28;01mTrue\u001B[39;00m\n\u001B[0;32m-> 3446\u001B[0m     \u001B[38;5;28;43mself\u001B[39;49m\u001B[38;5;241;43m.\u001B[39;49m\u001B[43m_flush\u001B[49m\u001B[43m(\u001B[49m\u001B[43mobjects\u001B[49m\u001B[43m)\u001B[49m\n\u001B[1;32m   3447\u001B[0m \u001B[38;5;28;01mfinally\u001B[39;00m:\n\u001B[1;32m   3448\u001B[0m     \u001B[38;5;28mself\u001B[39m\u001B[38;5;241m.\u001B[39m_flushing \u001B[38;5;241m=\u001B[39m \u001B[38;5;28;01mFalse\u001B[39;00m\n",
      "File \u001B[0;32m~/Documents/repos/coding/vocalpy/vocalpy/.venv/lib/python3.10/site-packages/sqlalchemy/orm/session.py:3585\u001B[0m, in \u001B[0;36mSession._flush\u001B[0;34m(self, objects)\u001B[0m\n\u001B[1;32m   3582\u001B[0m     transaction\u001B[38;5;241m.\u001B[39mcommit()\n\u001B[1;32m   3584\u001B[0m \u001B[38;5;28;01mexcept\u001B[39;00m:\n\u001B[0;32m-> 3585\u001B[0m     \u001B[38;5;28;01mwith\u001B[39;00m util\u001B[38;5;241m.\u001B[39msafe_reraise():\n\u001B[1;32m   3586\u001B[0m         transaction\u001B[38;5;241m.\u001B[39mrollback(_capture_exception\u001B[38;5;241m=\u001B[39m\u001B[38;5;28;01mTrue\u001B[39;00m)\n",
      "File \u001B[0;32m~/Documents/repos/coding/vocalpy/vocalpy/.venv/lib/python3.10/site-packages/sqlalchemy/util/langhelpers.py:70\u001B[0m, in \u001B[0;36msafe_reraise.__exit__\u001B[0;34m(self, type_, value, traceback)\u001B[0m\n\u001B[1;32m     68\u001B[0m     \u001B[38;5;28mself\u001B[39m\u001B[38;5;241m.\u001B[39m_exc_info \u001B[38;5;241m=\u001B[39m \u001B[38;5;28;01mNone\u001B[39;00m  \u001B[38;5;66;03m# remove potential circular references\u001B[39;00m\n\u001B[1;32m     69\u001B[0m     \u001B[38;5;28;01mif\u001B[39;00m \u001B[38;5;129;01mnot\u001B[39;00m \u001B[38;5;28mself\u001B[39m\u001B[38;5;241m.\u001B[39mwarn_only:\n\u001B[0;32m---> 70\u001B[0m         \u001B[43mcompat\u001B[49m\u001B[38;5;241;43m.\u001B[39;49m\u001B[43mraise_\u001B[49m\u001B[43m(\u001B[49m\n\u001B[1;32m     71\u001B[0m \u001B[43m            \u001B[49m\u001B[43mexc_value\u001B[49m\u001B[43m,\u001B[49m\n\u001B[1;32m     72\u001B[0m \u001B[43m            \u001B[49m\u001B[43mwith_traceback\u001B[49m\u001B[38;5;241;43m=\u001B[39;49m\u001B[43mexc_tb\u001B[49m\u001B[43m,\u001B[49m\n\u001B[1;32m     73\u001B[0m \u001B[43m        \u001B[49m\u001B[43m)\u001B[49m\n\u001B[1;32m     74\u001B[0m \u001B[38;5;28;01melse\u001B[39;00m:\n\u001B[1;32m     75\u001B[0m     \u001B[38;5;28;01mif\u001B[39;00m \u001B[38;5;129;01mnot\u001B[39;00m compat\u001B[38;5;241m.\u001B[39mpy3k \u001B[38;5;129;01mand\u001B[39;00m \u001B[38;5;28mself\u001B[39m\u001B[38;5;241m.\u001B[39m_exc_info \u001B[38;5;129;01mand\u001B[39;00m \u001B[38;5;28mself\u001B[39m\u001B[38;5;241m.\u001B[39m_exc_info[\u001B[38;5;241m1\u001B[39m]:\n\u001B[1;32m     76\u001B[0m         \u001B[38;5;66;03m# emulate Py3K's behavior of telling us when an exception\u001B[39;00m\n\u001B[1;32m     77\u001B[0m         \u001B[38;5;66;03m# occurs in an exception handler.\u001B[39;00m\n",
      "File \u001B[0;32m~/Documents/repos/coding/vocalpy/vocalpy/.venv/lib/python3.10/site-packages/sqlalchemy/util/compat.py:211\u001B[0m, in \u001B[0;36mraise_\u001B[0;34m(***failed resolving arguments***)\u001B[0m\n\u001B[1;32m    208\u001B[0m     exception\u001B[38;5;241m.\u001B[39m__cause__ \u001B[38;5;241m=\u001B[39m replace_context\n\u001B[1;32m    210\u001B[0m \u001B[38;5;28;01mtry\u001B[39;00m:\n\u001B[0;32m--> 211\u001B[0m     \u001B[38;5;28;01mraise\u001B[39;00m exception\n\u001B[1;32m    212\u001B[0m \u001B[38;5;28;01mfinally\u001B[39;00m:\n\u001B[1;32m    213\u001B[0m     \u001B[38;5;66;03m# credit to\u001B[39;00m\n\u001B[1;32m    214\u001B[0m     \u001B[38;5;66;03m# https://cosmicpercolator.com/2016/01/13/exception-leaks-in-python-2-and-3/\u001B[39;00m\n\u001B[1;32m    215\u001B[0m     \u001B[38;5;66;03m# as the __traceback__ object creates a cycle\u001B[39;00m\n\u001B[1;32m    216\u001B[0m     \u001B[38;5;28;01mdel\u001B[39;00m exception, replace_context, from_, with_traceback\n",
      "File \u001B[0;32m~/Documents/repos/coding/vocalpy/vocalpy/.venv/lib/python3.10/site-packages/sqlalchemy/orm/session.py:3546\u001B[0m, in \u001B[0;36mSession._flush\u001B[0;34m(self, objects)\u001B[0m\n\u001B[1;32m   3544\u001B[0m \u001B[38;5;28mself\u001B[39m\u001B[38;5;241m.\u001B[39m_warn_on_events \u001B[38;5;241m=\u001B[39m \u001B[38;5;28;01mTrue\u001B[39;00m\n\u001B[1;32m   3545\u001B[0m \u001B[38;5;28;01mtry\u001B[39;00m:\n\u001B[0;32m-> 3546\u001B[0m     \u001B[43mflush_context\u001B[49m\u001B[38;5;241;43m.\u001B[39;49m\u001B[43mexecute\u001B[49m\u001B[43m(\u001B[49m\u001B[43m)\u001B[49m\n\u001B[1;32m   3547\u001B[0m \u001B[38;5;28;01mfinally\u001B[39;00m:\n\u001B[1;32m   3548\u001B[0m     \u001B[38;5;28mself\u001B[39m\u001B[38;5;241m.\u001B[39m_warn_on_events \u001B[38;5;241m=\u001B[39m \u001B[38;5;28;01mFalse\u001B[39;00m\n",
      "File \u001B[0;32m~/Documents/repos/coding/vocalpy/vocalpy/.venv/lib/python3.10/site-packages/sqlalchemy/orm/unitofwork.py:456\u001B[0m, in \u001B[0;36mUOWTransaction.execute\u001B[0;34m(self)\u001B[0m\n\u001B[1;32m    454\u001B[0m \u001B[38;5;28;01melse\u001B[39;00m:\n\u001B[1;32m    455\u001B[0m     \u001B[38;5;28;01mfor\u001B[39;00m rec \u001B[38;5;129;01min\u001B[39;00m topological\u001B[38;5;241m.\u001B[39msort(\u001B[38;5;28mself\u001B[39m\u001B[38;5;241m.\u001B[39mdependencies, postsort_actions):\n\u001B[0;32m--> 456\u001B[0m         \u001B[43mrec\u001B[49m\u001B[38;5;241;43m.\u001B[39;49m\u001B[43mexecute\u001B[49m\u001B[43m(\u001B[49m\u001B[38;5;28;43mself\u001B[39;49m\u001B[43m)\u001B[49m\n",
      "File \u001B[0;32m~/Documents/repos/coding/vocalpy/vocalpy/.venv/lib/python3.10/site-packages/sqlalchemy/orm/unitofwork.py:630\u001B[0m, in \u001B[0;36mSaveUpdateAll.execute\u001B[0;34m(self, uow)\u001B[0m\n\u001B[1;32m    628\u001B[0m \u001B[38;5;129m@util\u001B[39m\u001B[38;5;241m.\u001B[39mpreload_module(\u001B[38;5;124m\"\u001B[39m\u001B[38;5;124msqlalchemy.orm.persistence\u001B[39m\u001B[38;5;124m\"\u001B[39m)\n\u001B[1;32m    629\u001B[0m \u001B[38;5;28;01mdef\u001B[39;00m \u001B[38;5;21mexecute\u001B[39m(\u001B[38;5;28mself\u001B[39m, uow):\n\u001B[0;32m--> 630\u001B[0m     \u001B[43mutil\u001B[49m\u001B[38;5;241;43m.\u001B[39;49m\u001B[43mpreloaded\u001B[49m\u001B[38;5;241;43m.\u001B[39;49m\u001B[43morm_persistence\u001B[49m\u001B[38;5;241;43m.\u001B[39;49m\u001B[43msave_obj\u001B[49m\u001B[43m(\u001B[49m\n\u001B[1;32m    631\u001B[0m \u001B[43m        \u001B[49m\u001B[38;5;28;43mself\u001B[39;49m\u001B[38;5;241;43m.\u001B[39;49m\u001B[43mmapper\u001B[49m\u001B[43m,\u001B[49m\n\u001B[1;32m    632\u001B[0m \u001B[43m        \u001B[49m\u001B[43muow\u001B[49m\u001B[38;5;241;43m.\u001B[39;49m\u001B[43mstates_for_mapper_hierarchy\u001B[49m\u001B[43m(\u001B[49m\u001B[38;5;28;43mself\u001B[39;49m\u001B[38;5;241;43m.\u001B[39;49m\u001B[43mmapper\u001B[49m\u001B[43m,\u001B[49m\u001B[43m \u001B[49m\u001B[38;5;28;43;01mFalse\u001B[39;49;00m\u001B[43m,\u001B[49m\u001B[43m \u001B[49m\u001B[38;5;28;43;01mFalse\u001B[39;49;00m\u001B[43m)\u001B[49m\u001B[43m,\u001B[49m\n\u001B[1;32m    633\u001B[0m \u001B[43m        \u001B[49m\u001B[43muow\u001B[49m\u001B[43m,\u001B[49m\n\u001B[1;32m    634\u001B[0m \u001B[43m    \u001B[49m\u001B[43m)\u001B[49m\n",
      "File \u001B[0;32m~/Documents/repos/coding/vocalpy/vocalpy/.venv/lib/python3.10/site-packages/sqlalchemy/orm/persistence.py:245\u001B[0m, in \u001B[0;36msave_obj\u001B[0;34m(base_mapper, states, uowtransaction, single)\u001B[0m\n\u001B[1;32m    233\u001B[0m     update \u001B[38;5;241m=\u001B[39m _collect_update_commands(\n\u001B[1;32m    234\u001B[0m         uowtransaction, table, states_to_update\n\u001B[1;32m    235\u001B[0m     )\n\u001B[1;32m    237\u001B[0m     _emit_update_statements(\n\u001B[1;32m    238\u001B[0m         base_mapper,\n\u001B[1;32m    239\u001B[0m         uowtransaction,\n\u001B[0;32m   (...)\u001B[0m\n\u001B[1;32m    242\u001B[0m         update,\n\u001B[1;32m    243\u001B[0m     )\n\u001B[0;32m--> 245\u001B[0m     \u001B[43m_emit_insert_statements\u001B[49m\u001B[43m(\u001B[49m\n\u001B[1;32m    246\u001B[0m \u001B[43m        \u001B[49m\u001B[43mbase_mapper\u001B[49m\u001B[43m,\u001B[49m\n\u001B[1;32m    247\u001B[0m \u001B[43m        \u001B[49m\u001B[43muowtransaction\u001B[49m\u001B[43m,\u001B[49m\n\u001B[1;32m    248\u001B[0m \u001B[43m        \u001B[49m\u001B[43mmapper\u001B[49m\u001B[43m,\u001B[49m\n\u001B[1;32m    249\u001B[0m \u001B[43m        \u001B[49m\u001B[43mtable\u001B[49m\u001B[43m,\u001B[49m\n\u001B[1;32m    250\u001B[0m \u001B[43m        \u001B[49m\u001B[43minsert\u001B[49m\u001B[43m,\u001B[49m\n\u001B[1;32m    251\u001B[0m \u001B[43m    \u001B[49m\u001B[43m)\u001B[49m\n\u001B[1;32m    253\u001B[0m _finalize_insert_update_commands(\n\u001B[1;32m    254\u001B[0m     base_mapper,\n\u001B[1;32m    255\u001B[0m     uowtransaction,\n\u001B[0;32m   (...)\u001B[0m\n\u001B[1;32m    271\u001B[0m     ),\n\u001B[1;32m    272\u001B[0m )\n",
      "File \u001B[0;32m~/Documents/repos/coding/vocalpy/vocalpy/.venv/lib/python3.10/site-packages/sqlalchemy/orm/persistence.py:1238\u001B[0m, in \u001B[0;36m_emit_insert_statements\u001B[0;34m(base_mapper, uowtransaction, mapper, table, insert, bookkeeping)\u001B[0m\n\u001B[1;32m   1232\u001B[0m     result \u001B[38;5;241m=\u001B[39m connection\u001B[38;5;241m.\u001B[39m_execute_20(\n\u001B[1;32m   1233\u001B[0m         statement\u001B[38;5;241m.\u001B[39mvalues(value_params),\n\u001B[1;32m   1234\u001B[0m         params,\n\u001B[1;32m   1235\u001B[0m         execution_options\u001B[38;5;241m=\u001B[39mexecution_options,\n\u001B[1;32m   1236\u001B[0m     )\n\u001B[1;32m   1237\u001B[0m \u001B[38;5;28;01melse\u001B[39;00m:\n\u001B[0;32m-> 1238\u001B[0m     result \u001B[38;5;241m=\u001B[39m \u001B[43mconnection\u001B[49m\u001B[38;5;241;43m.\u001B[39;49m\u001B[43m_execute_20\u001B[49m\u001B[43m(\u001B[49m\n\u001B[1;32m   1239\u001B[0m \u001B[43m        \u001B[49m\u001B[43mstatement\u001B[49m\u001B[43m,\u001B[49m\n\u001B[1;32m   1240\u001B[0m \u001B[43m        \u001B[49m\u001B[43mparams\u001B[49m\u001B[43m,\u001B[49m\n\u001B[1;32m   1241\u001B[0m \u001B[43m        \u001B[49m\u001B[43mexecution_options\u001B[49m\u001B[38;5;241;43m=\u001B[39;49m\u001B[43mexecution_options\u001B[49m\u001B[43m,\u001B[49m\n\u001B[1;32m   1242\u001B[0m \u001B[43m    \u001B[49m\u001B[43m)\u001B[49m\n\u001B[1;32m   1244\u001B[0m primary_key \u001B[38;5;241m=\u001B[39m result\u001B[38;5;241m.\u001B[39minserted_primary_key\n\u001B[1;32m   1245\u001B[0m \u001B[38;5;28;01mif\u001B[39;00m primary_key \u001B[38;5;129;01mis\u001B[39;00m \u001B[38;5;28;01mNone\u001B[39;00m:\n",
      "File \u001B[0;32m~/Documents/repos/coding/vocalpy/vocalpy/.venv/lib/python3.10/site-packages/sqlalchemy/engine/base.py:1705\u001B[0m, in \u001B[0;36mConnection._execute_20\u001B[0;34m(self, statement, parameters, execution_options)\u001B[0m\n\u001B[1;32m   1701\u001B[0m     util\u001B[38;5;241m.\u001B[39mraise_(\n\u001B[1;32m   1702\u001B[0m         exc\u001B[38;5;241m.\u001B[39mObjectNotExecutableError(statement), replace_context\u001B[38;5;241m=\u001B[39merr\n\u001B[1;32m   1703\u001B[0m     )\n\u001B[1;32m   1704\u001B[0m \u001B[38;5;28;01melse\u001B[39;00m:\n\u001B[0;32m-> 1705\u001B[0m     \u001B[38;5;28;01mreturn\u001B[39;00m \u001B[43mmeth\u001B[49m\u001B[43m(\u001B[49m\u001B[38;5;28;43mself\u001B[39;49m\u001B[43m,\u001B[49m\u001B[43m \u001B[49m\u001B[43margs_10style\u001B[49m\u001B[43m,\u001B[49m\u001B[43m \u001B[49m\u001B[43mkwargs_10style\u001B[49m\u001B[43m,\u001B[49m\u001B[43m \u001B[49m\u001B[43mexecution_options\u001B[49m\u001B[43m)\u001B[49m\n",
      "File \u001B[0;32m~/Documents/repos/coding/vocalpy/vocalpy/.venv/lib/python3.10/site-packages/sqlalchemy/sql/elements.py:334\u001B[0m, in \u001B[0;36mClauseElement._execute_on_connection\u001B[0;34m(self, connection, multiparams, params, execution_options, _force)\u001B[0m\n\u001B[1;32m    330\u001B[0m \u001B[38;5;28;01mdef\u001B[39;00m \u001B[38;5;21m_execute_on_connection\u001B[39m(\n\u001B[1;32m    331\u001B[0m     \u001B[38;5;28mself\u001B[39m, connection, multiparams, params, execution_options, _force\u001B[38;5;241m=\u001B[39m\u001B[38;5;28;01mFalse\u001B[39;00m\n\u001B[1;32m    332\u001B[0m ):\n\u001B[1;32m    333\u001B[0m     \u001B[38;5;28;01mif\u001B[39;00m _force \u001B[38;5;129;01mor\u001B[39;00m \u001B[38;5;28mself\u001B[39m\u001B[38;5;241m.\u001B[39msupports_execution:\n\u001B[0;32m--> 334\u001B[0m         \u001B[38;5;28;01mreturn\u001B[39;00m \u001B[43mconnection\u001B[49m\u001B[38;5;241;43m.\u001B[39;49m\u001B[43m_execute_clauseelement\u001B[49m\u001B[43m(\u001B[49m\n\u001B[1;32m    335\u001B[0m \u001B[43m            \u001B[49m\u001B[38;5;28;43mself\u001B[39;49m\u001B[43m,\u001B[49m\u001B[43m \u001B[49m\u001B[43mmultiparams\u001B[49m\u001B[43m,\u001B[49m\u001B[43m \u001B[49m\u001B[43mparams\u001B[49m\u001B[43m,\u001B[49m\u001B[43m \u001B[49m\u001B[43mexecution_options\u001B[49m\n\u001B[1;32m    336\u001B[0m \u001B[43m        \u001B[49m\u001B[43m)\u001B[49m\n\u001B[1;32m    337\u001B[0m     \u001B[38;5;28;01melse\u001B[39;00m:\n\u001B[1;32m    338\u001B[0m         \u001B[38;5;28;01mraise\u001B[39;00m exc\u001B[38;5;241m.\u001B[39mObjectNotExecutableError(\u001B[38;5;28mself\u001B[39m)\n",
      "File \u001B[0;32m~/Documents/repos/coding/vocalpy/vocalpy/.venv/lib/python3.10/site-packages/sqlalchemy/engine/base.py:1572\u001B[0m, in \u001B[0;36mConnection._execute_clauseelement\u001B[0;34m(self, elem, multiparams, params, execution_options)\u001B[0m\n\u001B[1;32m   1560\u001B[0m compiled_cache \u001B[38;5;241m=\u001B[39m execution_options\u001B[38;5;241m.\u001B[39mget(\n\u001B[1;32m   1561\u001B[0m     \u001B[38;5;124m\"\u001B[39m\u001B[38;5;124mcompiled_cache\u001B[39m\u001B[38;5;124m\"\u001B[39m, \u001B[38;5;28mself\u001B[39m\u001B[38;5;241m.\u001B[39mengine\u001B[38;5;241m.\u001B[39m_compiled_cache\n\u001B[1;32m   1562\u001B[0m )\n\u001B[1;32m   1564\u001B[0m compiled_sql, extracted_params, cache_hit \u001B[38;5;241m=\u001B[39m elem\u001B[38;5;241m.\u001B[39m_compile_w_cache(\n\u001B[1;32m   1565\u001B[0m     dialect\u001B[38;5;241m=\u001B[39mdialect,\n\u001B[1;32m   1566\u001B[0m     compiled_cache\u001B[38;5;241m=\u001B[39mcompiled_cache,\n\u001B[0;32m   (...)\u001B[0m\n\u001B[1;32m   1570\u001B[0m     linting\u001B[38;5;241m=\u001B[39m\u001B[38;5;28mself\u001B[39m\u001B[38;5;241m.\u001B[39mdialect\u001B[38;5;241m.\u001B[39mcompiler_linting \u001B[38;5;241m|\u001B[39m compiler\u001B[38;5;241m.\u001B[39mWARN_LINTING,\n\u001B[1;32m   1571\u001B[0m )\n\u001B[0;32m-> 1572\u001B[0m ret \u001B[38;5;241m=\u001B[39m \u001B[38;5;28;43mself\u001B[39;49m\u001B[38;5;241;43m.\u001B[39;49m\u001B[43m_execute_context\u001B[49m\u001B[43m(\u001B[49m\n\u001B[1;32m   1573\u001B[0m \u001B[43m    \u001B[49m\u001B[43mdialect\u001B[49m\u001B[43m,\u001B[49m\n\u001B[1;32m   1574\u001B[0m \u001B[43m    \u001B[49m\u001B[43mdialect\u001B[49m\u001B[38;5;241;43m.\u001B[39;49m\u001B[43mexecution_ctx_cls\u001B[49m\u001B[38;5;241;43m.\u001B[39;49m\u001B[43m_init_compiled\u001B[49m\u001B[43m,\u001B[49m\n\u001B[1;32m   1575\u001B[0m \u001B[43m    \u001B[49m\u001B[43mcompiled_sql\u001B[49m\u001B[43m,\u001B[49m\n\u001B[1;32m   1576\u001B[0m \u001B[43m    \u001B[49m\u001B[43mdistilled_params\u001B[49m\u001B[43m,\u001B[49m\n\u001B[1;32m   1577\u001B[0m \u001B[43m    \u001B[49m\u001B[43mexecution_options\u001B[49m\u001B[43m,\u001B[49m\n\u001B[1;32m   1578\u001B[0m \u001B[43m    \u001B[49m\u001B[43mcompiled_sql\u001B[49m\u001B[43m,\u001B[49m\n\u001B[1;32m   1579\u001B[0m \u001B[43m    \u001B[49m\u001B[43mdistilled_params\u001B[49m\u001B[43m,\u001B[49m\n\u001B[1;32m   1580\u001B[0m \u001B[43m    \u001B[49m\u001B[43melem\u001B[49m\u001B[43m,\u001B[49m\n\u001B[1;32m   1581\u001B[0m \u001B[43m    \u001B[49m\u001B[43mextracted_params\u001B[49m\u001B[43m,\u001B[49m\n\u001B[1;32m   1582\u001B[0m \u001B[43m    \u001B[49m\u001B[43mcache_hit\u001B[49m\u001B[38;5;241;43m=\u001B[39;49m\u001B[43mcache_hit\u001B[49m\u001B[43m,\u001B[49m\n\u001B[1;32m   1583\u001B[0m \u001B[43m\u001B[49m\u001B[43m)\u001B[49m\n\u001B[1;32m   1584\u001B[0m \u001B[38;5;28;01mif\u001B[39;00m has_events:\n\u001B[1;32m   1585\u001B[0m     \u001B[38;5;28mself\u001B[39m\u001B[38;5;241m.\u001B[39mdispatch\u001B[38;5;241m.\u001B[39mafter_execute(\n\u001B[1;32m   1586\u001B[0m         \u001B[38;5;28mself\u001B[39m,\n\u001B[1;32m   1587\u001B[0m         elem,\n\u001B[0;32m   (...)\u001B[0m\n\u001B[1;32m   1591\u001B[0m         ret,\n\u001B[1;32m   1592\u001B[0m     )\n",
      "File \u001B[0;32m~/Documents/repos/coding/vocalpy/vocalpy/.venv/lib/python3.10/site-packages/sqlalchemy/engine/base.py:1943\u001B[0m, in \u001B[0;36mConnection._execute_context\u001B[0;34m(self, dialect, constructor, statement, parameters, execution_options, *args, **kw)\u001B[0m\n\u001B[1;32m   1940\u001B[0m             branched\u001B[38;5;241m.\u001B[39mclose()\n\u001B[1;32m   1942\u001B[0m \u001B[38;5;28;01mexcept\u001B[39;00m \u001B[38;5;167;01mBaseException\u001B[39;00m \u001B[38;5;28;01mas\u001B[39;00m e:\n\u001B[0;32m-> 1943\u001B[0m     \u001B[38;5;28;43mself\u001B[39;49m\u001B[38;5;241;43m.\u001B[39;49m\u001B[43m_handle_dbapi_exception\u001B[49m\u001B[43m(\u001B[49m\n\u001B[1;32m   1944\u001B[0m \u001B[43m        \u001B[49m\u001B[43me\u001B[49m\u001B[43m,\u001B[49m\u001B[43m \u001B[49m\u001B[43mstatement\u001B[49m\u001B[43m,\u001B[49m\u001B[43m \u001B[49m\u001B[43mparameters\u001B[49m\u001B[43m,\u001B[49m\u001B[43m \u001B[49m\u001B[43mcursor\u001B[49m\u001B[43m,\u001B[49m\u001B[43m \u001B[49m\u001B[43mcontext\u001B[49m\n\u001B[1;32m   1945\u001B[0m \u001B[43m    \u001B[49m\u001B[43m)\u001B[49m\n\u001B[1;32m   1947\u001B[0m \u001B[38;5;28;01mreturn\u001B[39;00m result\n",
      "File \u001B[0;32m~/Documents/repos/coding/vocalpy/vocalpy/.venv/lib/python3.10/site-packages/sqlalchemy/engine/base.py:2124\u001B[0m, in \u001B[0;36mConnection._handle_dbapi_exception\u001B[0;34m(self, e, statement, parameters, cursor, context)\u001B[0m\n\u001B[1;32m   2122\u001B[0m     util\u001B[38;5;241m.\u001B[39mraise_(newraise, with_traceback\u001B[38;5;241m=\u001B[39mexc_info[\u001B[38;5;241m2\u001B[39m], from_\u001B[38;5;241m=\u001B[39me)\n\u001B[1;32m   2123\u001B[0m \u001B[38;5;28;01melif\u001B[39;00m should_wrap:\n\u001B[0;32m-> 2124\u001B[0m     \u001B[43mutil\u001B[49m\u001B[38;5;241;43m.\u001B[39;49m\u001B[43mraise_\u001B[49m\u001B[43m(\u001B[49m\n\u001B[1;32m   2125\u001B[0m \u001B[43m        \u001B[49m\u001B[43msqlalchemy_exception\u001B[49m\u001B[43m,\u001B[49m\u001B[43m \u001B[49m\u001B[43mwith_traceback\u001B[49m\u001B[38;5;241;43m=\u001B[39;49m\u001B[43mexc_info\u001B[49m\u001B[43m[\u001B[49m\u001B[38;5;241;43m2\u001B[39;49m\u001B[43m]\u001B[49m\u001B[43m,\u001B[49m\u001B[43m \u001B[49m\u001B[43mfrom_\u001B[49m\u001B[38;5;241;43m=\u001B[39;49m\u001B[43me\u001B[49m\n\u001B[1;32m   2126\u001B[0m \u001B[43m    \u001B[49m\u001B[43m)\u001B[49m\n\u001B[1;32m   2127\u001B[0m \u001B[38;5;28;01melse\u001B[39;00m:\n\u001B[1;32m   2128\u001B[0m     util\u001B[38;5;241m.\u001B[39mraise_(exc_info[\u001B[38;5;241m1\u001B[39m], with_traceback\u001B[38;5;241m=\u001B[39mexc_info[\u001B[38;5;241m2\u001B[39m])\n",
      "File \u001B[0;32m~/Documents/repos/coding/vocalpy/vocalpy/.venv/lib/python3.10/site-packages/sqlalchemy/util/compat.py:211\u001B[0m, in \u001B[0;36mraise_\u001B[0;34m(***failed resolving arguments***)\u001B[0m\n\u001B[1;32m    208\u001B[0m     exception\u001B[38;5;241m.\u001B[39m__cause__ \u001B[38;5;241m=\u001B[39m replace_context\n\u001B[1;32m    210\u001B[0m \u001B[38;5;28;01mtry\u001B[39;00m:\n\u001B[0;32m--> 211\u001B[0m     \u001B[38;5;28;01mraise\u001B[39;00m exception\n\u001B[1;32m    212\u001B[0m \u001B[38;5;28;01mfinally\u001B[39;00m:\n\u001B[1;32m    213\u001B[0m     \u001B[38;5;66;03m# credit to\u001B[39;00m\n\u001B[1;32m    214\u001B[0m     \u001B[38;5;66;03m# https://cosmicpercolator.com/2016/01/13/exception-leaks-in-python-2-and-3/\u001B[39;00m\n\u001B[1;32m    215\u001B[0m     \u001B[38;5;66;03m# as the __traceback__ object creates a cycle\u001B[39;00m\n\u001B[1;32m    216\u001B[0m     \u001B[38;5;28;01mdel\u001B[39;00m exception, replace_context, from_, with_traceback\n",
      "File \u001B[0;32m~/Documents/repos/coding/vocalpy/vocalpy/.venv/lib/python3.10/site-packages/sqlalchemy/engine/base.py:1900\u001B[0m, in \u001B[0;36mConnection._execute_context\u001B[0;34m(self, dialect, constructor, statement, parameters, execution_options, *args, **kw)\u001B[0m\n\u001B[1;32m   1898\u001B[0m                 \u001B[38;5;28;01mbreak\u001B[39;00m\n\u001B[1;32m   1899\u001B[0m     \u001B[38;5;28;01mif\u001B[39;00m \u001B[38;5;129;01mnot\u001B[39;00m evt_handled:\n\u001B[0;32m-> 1900\u001B[0m         \u001B[38;5;28;43mself\u001B[39;49m\u001B[38;5;241;43m.\u001B[39;49m\u001B[43mdialect\u001B[49m\u001B[38;5;241;43m.\u001B[39;49m\u001B[43mdo_execute\u001B[49m\u001B[43m(\u001B[49m\n\u001B[1;32m   1901\u001B[0m \u001B[43m            \u001B[49m\u001B[43mcursor\u001B[49m\u001B[43m,\u001B[49m\u001B[43m \u001B[49m\u001B[43mstatement\u001B[49m\u001B[43m,\u001B[49m\u001B[43m \u001B[49m\u001B[43mparameters\u001B[49m\u001B[43m,\u001B[49m\u001B[43m \u001B[49m\u001B[43mcontext\u001B[49m\n\u001B[1;32m   1902\u001B[0m \u001B[43m        \u001B[49m\u001B[43m)\u001B[49m\n\u001B[1;32m   1904\u001B[0m \u001B[38;5;28;01mif\u001B[39;00m \u001B[38;5;28mself\u001B[39m\u001B[38;5;241m.\u001B[39m_has_events \u001B[38;5;129;01mor\u001B[39;00m \u001B[38;5;28mself\u001B[39m\u001B[38;5;241m.\u001B[39mengine\u001B[38;5;241m.\u001B[39m_has_events:\n\u001B[1;32m   1905\u001B[0m     \u001B[38;5;28mself\u001B[39m\u001B[38;5;241m.\u001B[39mdispatch\u001B[38;5;241m.\u001B[39mafter_cursor_execute(\n\u001B[1;32m   1906\u001B[0m         \u001B[38;5;28mself\u001B[39m,\n\u001B[1;32m   1907\u001B[0m         cursor,\n\u001B[0;32m   (...)\u001B[0m\n\u001B[1;32m   1911\u001B[0m         context\u001B[38;5;241m.\u001B[39mexecutemany,\n\u001B[1;32m   1912\u001B[0m     )\n",
      "File \u001B[0;32m~/Documents/repos/coding/vocalpy/vocalpy/.venv/lib/python3.10/site-packages/sqlalchemy/engine/default.py:736\u001B[0m, in \u001B[0;36mDefaultDialect.do_execute\u001B[0;34m(self, cursor, statement, parameters, context)\u001B[0m\n\u001B[1;32m    735\u001B[0m \u001B[38;5;28;01mdef\u001B[39;00m \u001B[38;5;21mdo_execute\u001B[39m(\u001B[38;5;28mself\u001B[39m, cursor, statement, parameters, context\u001B[38;5;241m=\u001B[39m\u001B[38;5;28;01mNone\u001B[39;00m):\n\u001B[0;32m--> 736\u001B[0m     \u001B[43mcursor\u001B[49m\u001B[38;5;241;43m.\u001B[39;49m\u001B[43mexecute\u001B[49m\u001B[43m(\u001B[49m\u001B[43mstatement\u001B[49m\u001B[43m,\u001B[49m\u001B[43m \u001B[49m\u001B[43mparameters\u001B[49m\u001B[43m)\u001B[49m\n",
      "\u001B[0;31mInterfaceError\u001B[0m: (raised as a result of Query-invoked autoflush; consider using a session.no_autoflush block if this flush is occurring prematurely)\n(sqlite3.InterfaceError) Error binding parameter 1 - probably unsupported type.\n[SQL: INSERT INTO dataset_file (filetype, path) VALUES (?, ?)]\n[parameters: ('AudioFile', PosixPath('tests/data-for-tests/source/audio_cbin_annot_notmat/gy6or6/032312/gy6or6_baseline_230312_0808.138.cbin'))]\n(Background on this error at: https://sqlalche.me/e/14/rvf5)"
     ]
    }
   ],
   "source": [
    "session.query(DatasetFile).first()"
   ]
  },
  {
   "cell_type": "code",
   "execution_count": null,
   "id": "6100a84f-e4a0-46ac-ad8d-148ae42ef87f",
   "metadata": {},
   "outputs": [],
   "source": []
  }
 ],
 "metadata": {
  "kernelspec": {
   "display_name": "Python 3 (ipykernel)",
   "language": "python",
   "name": "python3"
  },
  "language_info": {
   "codemirror_mode": {
    "name": "ipython",
    "version": 3
   },
   "file_extension": ".py",
   "mimetype": "text/x-python",
   "name": "python",
   "nbconvert_exporter": "python",
   "pygments_lexer": "ipython3",
   "version": "3.10.10"
  }
 },
 "nbformat": 4,
 "nbformat_minor": 5
}
