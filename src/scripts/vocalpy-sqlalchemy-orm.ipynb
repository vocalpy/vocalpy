{
 "cells": [
  {
   "cell_type": "code",
   "execution_count": 1,
   "id": "0272c631-e213-4e8e-a3d3-4907a4eed57c",
   "metadata": {
    "tags": []
   },
   "outputs": [],
   "source": [
    "import enum\n",
    "\n",
    "from sqlalchemy import (\n",
    "    Column,\n",
    "    create_engine,\n",
    "    Enum,\n",
    "    ForeignKey,\n",
    "    Integer,\n",
    "    String,\n",
    "    Table,\n",
    ")\n",
    "from sqlalchemy.ext.declarative import declarative_base\n",
    "from sqlalchemy.orm import relationship\n",
    "\n",
    "import vocalpy as voc"
   ]
  },
  {
   "cell_type": "code",
   "execution_count": 2,
   "id": "d22c1bc7-410d-46c3-9126-7c09794b5e2d",
   "metadata": {
    "tags": []
   },
   "outputs": [
    {
     "name": "stderr",
     "output_type": "stream",
     "text": [
      "/var/folders/th/rsbsynzn56zbz5vrtgv63yh00000gn/T/ipykernel_14354/4196137762.py:1: MovedIn20Warning: Deprecated API features detected! These feature(s) are not compatible with SQLAlchemy 2.0. To prevent incompatible upgrades prior to updating applications, ensure requirements files are pinned to \"sqlalchemy<2.0\". Set environment variable SQLALCHEMY_WARN_20=1 to show all deprecation warnings.  Set environment variable SQLALCHEMY_SILENCE_UBER_WARNING=1 to silence this message. (Background on SQLAlchemy 2.0 at: https://sqlalche.me/e/b8d9)\n",
      "  Base = declarative_base()\n"
     ]
    }
   ],
   "source": [
    "Base = declarative_base()"
   ]
  },
  {
   "cell_type": "code",
   "execution_count": 3,
   "id": "aee61944-8ef1-4c3f-85ee-5da430795ab4",
   "metadata": {},
   "outputs": [],
   "source": [
    "class AudioFile(Base):\n",
    "    __tablename__ = 'audio_files'\n",
    "    \n",
    "    id = Column(Integer, primary_key=True)\n",
    "    dataset_file_id = Column(Integer, ForeignKey('dataset_files.id'))\n",
    "    \n",
    "    dataset_file = relationship(\"DatasetFile\", back_populates=\"audio_file\")\n",
    "    spectrogram_files = relationship(\"SpectrogramFile\", back_populates=\"source_audio_file\")\n",
    "\n",
    "    def __repr__(self):\n",
    "        return f\"AudioFile(id={self.id!r}, dataset_file_id={self.dataset_file_id!r})\""
   ]
  },
  {
   "cell_type": "code",
   "execution_count": 4,
   "id": "19045855-a5da-4a50-abce-4db569470f6a",
   "metadata": {
    "tags": []
   },
   "outputs": [],
   "source": [
    "annotates_table = Table(\n",
    "    \"annotates\",\n",
    "    Base.metadata,\n",
    "    Column(\"annotation_file_id\", ForeignKey(\"annotation_files.id\")),\n",
    "    Column(\"dataset_file_id\", ForeignKey(\"dataset_files.id\")),\n",
    ")"
   ]
  },
  {
   "cell_type": "code",
   "execution_count": 5,
   "id": "83cf0472-e949-421a-b755-2648ea0603ce",
   "metadata": {
    "tags": []
   },
   "outputs": [],
   "source": [
    "class AnnotationFile(Base):\n",
    "    __tablename__ = 'annotation_files'\n",
    "    \n",
    "    id = Column(Integer, primary_key=True)\n",
    "    dataset_file_id = Column(Integer, ForeignKey('dataset_files.id'))\n",
    "\n",
    "    annotates = relationship(\"DatasetFile\", secondary=annotates_table)\n",
    "\n",
    "    dataset_file = relationship(\"DatasetFile\", back_populates=\"annotation_file\")\n",
    "    \n",
    "    def __repr__(self):\n",
    "        return f\"AnnotationFile(id={self.id!r}, dataset_file_id={self.dataset_file_id!r}\""
   ]
  },
  {
   "cell_type": "code",
   "execution_count": 6,
   "id": "b17e7cce-6ccc-4890-89ad-b5d55e9d9b97",
   "metadata": {
    "tags": []
   },
   "outputs": [],
   "source": [
    "class SpectrogramFile(Base):\n",
    "    __tablename__ = 'spectrogram_files'\n",
    "    \n",
    "    id = Column(Integer, primary_key=True)\n",
    "    source_audio_file_id = Column(\"audio_file_id\", Integer, ForeignKey(\"audio_files.id\"))\n",
    "    spectrogram_parameters_id = Column(\"spectrogram_parameters_id\", Integer, ForeignKey(\"spectrogram_parameters.id\"))\n",
    "    dataset_file_id = Column(Integer, ForeignKey('dataset_files.id'))\n",
    "\n",
    "    source_audio_file = relationship(\"AudioFile\", back_populates=\"spectrogram_files\")\n",
    "    spectrogram_parameters = relationship(\"SpectrogramParameters\", back_populates=\"spectrogram_files\")\n",
    "    dataset_file = relationship(\"DatasetFile\", back_populates=\"spectrogram_file\")\n",
    "    \n",
    "    def __repr__(self):\n",
    "        return (f\"SpectrogramFile(id={self.id!r}, source_audio_file={self.source_audio_file!r}, \"\n",
    "                f\"spectrogram_parameters={self.spectrogram_parameters!r})\")"
   ]
  },
  {
   "cell_type": "code",
   "execution_count": 7,
   "id": "f5ae1674-a467-45ee-b46f-5f0dbb724036",
   "metadata": {
    "tags": []
   },
   "outputs": [],
   "source": [
    "class SpectrogramParameters(Base):\n",
    "    __tablename__ = 'spectrogram_parameters'\n",
    "    \n",
    "    id = Column(Integer, primary_key=True)\n",
    "    fft_size = Column(Integer)\n",
    "    step_size = Column(Integer)\n",
    "    \n",
    "    spectrogram_files = relationship(\"SpectrogramFile\", back_populates=\"spectrogram_parameters\")\n",
    "    \n",
    "    def __repr__(self):\n",
    "        return f\"SpectrogramParameters(id={self.id!r}, fft_size={self.fft_size!r}, step_size={self.step_size!r}\""
   ]
  },
  {
   "cell_type": "code",
   "execution_count": 8,
   "id": "e3e08b27-3c18-4c58-b2d8-adae4d8bc182",
   "metadata": {},
   "outputs": [],
   "source": [
    "class DatasetFileTypeEnum(enum.Enum):\n",
    "    AudioFile = 1\n",
    "    SpectrogramFile = 2\n",
    "    AnnotationFile = 3\n",
    "    FeatureFile = 4"
   ]
  },
  {
   "cell_type": "code",
   "execution_count": 9,
   "id": "ebbff068-6d7a-4b13-af1b-d32418f1aad1",
   "metadata": {},
   "outputs": [],
   "source": [
    "class DatasetFile(Base):\n",
    "    __tablename__ = 'dataset_files'\n",
    "    \n",
    "    id = Column(Integer, primary_key=True)\n",
    "    path = Column(String)\n",
    "    file_type = Column(Enum(DatasetFileTypeEnum))\n",
    "\n",
    "    audio_file = relationship(\"AudioFile\", \n",
    "                              back_populates=\"dataset_file\", \n",
    "                              uselist=False)\n",
    "    spectrogram_file = relationship(\"SpectrogramFile\", \n",
    "                                    back_populates=\"dataset_file\", \n",
    "                                    uselist=False)\n",
    "\n",
    "    annotation_file = relationship(\"AnnotationFile\", \n",
    "                                    back_populates=\"dataset_file\", \n",
    "                                    uselist=False)"
   ]
  },
  {
   "cell_type": "code",
   "execution_count": 10,
   "id": "fea23cac-4133-4f05-8f40-b43f10bc88e6",
   "metadata": {
    "tags": []
   },
   "outputs": [],
   "source": [
    "from sqlalchemy import create_engine\n",
    "from sqlalchemy.orm import sessionmaker"
   ]
  },
  {
   "cell_type": "code",
   "execution_count": 11,
   "id": "13f239f1-a5ff-438d-8027-747d5049b45e",
   "metadata": {
    "tags": []
   },
   "outputs": [],
   "source": [
    "def get_engine():\n",
    "     return create_engine('sqlite:///:memory:', echo=True)\n",
    "\n",
    "def get_session(engine):\n",
    "    Session = sessionmaker(bind=engine)\n",
    "    session = Session()\n",
    "    return session\n",
    "\n",
    "def an_audio_path():\n",
    "    return './tests/data/source/bird1.cbin'"
   ]
  },
  {
   "cell_type": "code",
   "execution_count": 2,
   "id": "5456f9a4-8f24-4698-a941-77fb4934bc47",
   "metadata": {
    "tags": []
   },
   "outputs": [],
   "source": [
    "from sqlalchemy.orm import registry\n",
    "from sqlalchemy import Table, Column, Integer, Enum, String\n",
    "\n",
    "mapper_registry = registry()\n",
    "\n"
   ]
  },
  {
   "cell_type": "code",
   "execution_count": null,
   "id": "154624bf-0bbc-4309-8399-37710d0b6a16",
   "metadata": {},
   "outputs": [],
   "source": [
    "engine = get_engine()\n",
    "session = get_session(engine)\n",
    "\n",
    "# next line makes tables?\n",
    "Base.metadata.create_all(engine)"
   ]
  },
  {
   "cell_type": "code",
   "execution_count": 12,
   "id": "382779f4-2e7a-4ee5-91ce-fe07d0a579e5",
   "metadata": {
    "tags": []
   },
   "outputs": [
    {
     "name": "stdout",
     "output_type": "stream",
     "text": [
      "2023-04-18 17:20:59,890 INFO sqlalchemy.engine.Engine BEGIN (implicit)\n",
      "2023-04-18 17:20:59,891 INFO sqlalchemy.engine.Engine PRAGMA main.table_info(\"audio_files\")\n",
      "2023-04-18 17:20:59,892 INFO sqlalchemy.engine.Engine [raw sql] ()\n",
      "2023-04-18 17:20:59,894 INFO sqlalchemy.engine.Engine PRAGMA temp.table_info(\"audio_files\")\n",
      "2023-04-18 17:20:59,895 INFO sqlalchemy.engine.Engine [raw sql] ()\n",
      "2023-04-18 17:20:59,896 INFO sqlalchemy.engine.Engine PRAGMA main.table_info(\"annotates\")\n",
      "2023-04-18 17:20:59,898 INFO sqlalchemy.engine.Engine [raw sql] ()\n",
      "2023-04-18 17:20:59,901 INFO sqlalchemy.engine.Engine PRAGMA temp.table_info(\"annotates\")\n",
      "2023-04-18 17:20:59,902 INFO sqlalchemy.engine.Engine [raw sql] ()\n",
      "2023-04-18 17:20:59,904 INFO sqlalchemy.engine.Engine PRAGMA main.table_info(\"annotation_files\")\n",
      "2023-04-18 17:20:59,905 INFO sqlalchemy.engine.Engine [raw sql] ()\n",
      "2023-04-18 17:20:59,907 INFO sqlalchemy.engine.Engine PRAGMA temp.table_info(\"annotation_files\")\n",
      "2023-04-18 17:20:59,908 INFO sqlalchemy.engine.Engine [raw sql] ()\n",
      "2023-04-18 17:20:59,910 INFO sqlalchemy.engine.Engine PRAGMA main.table_info(\"spectrogram_files\")\n",
      "2023-04-18 17:20:59,911 INFO sqlalchemy.engine.Engine [raw sql] ()\n",
      "2023-04-18 17:20:59,912 INFO sqlalchemy.engine.Engine PRAGMA temp.table_info(\"spectrogram_files\")\n",
      "2023-04-18 17:20:59,915 INFO sqlalchemy.engine.Engine [raw sql] ()\n",
      "2023-04-18 17:20:59,918 INFO sqlalchemy.engine.Engine PRAGMA main.table_info(\"spectrogram_parameters\")\n",
      "2023-04-18 17:20:59,919 INFO sqlalchemy.engine.Engine [raw sql] ()\n",
      "2023-04-18 17:20:59,922 INFO sqlalchemy.engine.Engine PRAGMA temp.table_info(\"spectrogram_parameters\")\n",
      "2023-04-18 17:20:59,923 INFO sqlalchemy.engine.Engine [raw sql] ()\n",
      "2023-04-18 17:20:59,925 INFO sqlalchemy.engine.Engine PRAGMA main.table_info(\"dataset_files\")\n",
      "2023-04-18 17:20:59,927 INFO sqlalchemy.engine.Engine [raw sql] ()\n",
      "2023-04-18 17:20:59,931 INFO sqlalchemy.engine.Engine PRAGMA temp.table_info(\"dataset_files\")\n",
      "2023-04-18 17:20:59,932 INFO sqlalchemy.engine.Engine [raw sql] ()\n",
      "2023-04-18 17:20:59,935 INFO sqlalchemy.engine.Engine \n",
      "CREATE TABLE spectrogram_parameters (\n",
      "\tid INTEGER NOT NULL, \n",
      "\tfft_size INTEGER, \n",
      "\tstep_size INTEGER, \n",
      "\tPRIMARY KEY (id)\n",
      ")\n",
      "\n",
      "\n",
      "2023-04-18 17:20:59,938 INFO sqlalchemy.engine.Engine [no key 0.00282s] ()\n",
      "2023-04-18 17:20:59,942 INFO sqlalchemy.engine.Engine \n",
      "CREATE TABLE dataset_files (\n",
      "\tid INTEGER NOT NULL, \n",
      "\tpath VARCHAR, \n",
      "\tfile_type VARCHAR(15), \n",
      "\tPRIMARY KEY (id)\n",
      ")\n",
      "\n",
      "\n",
      "2023-04-18 17:20:59,950 INFO sqlalchemy.engine.Engine [no key 0.00790s] ()\n",
      "2023-04-18 17:20:59,960 INFO sqlalchemy.engine.Engine \n",
      "CREATE TABLE audio_files (\n",
      "\tid INTEGER NOT NULL, \n",
      "\tdataset_file_id INTEGER, \n",
      "\tPRIMARY KEY (id), \n",
      "\tFOREIGN KEY(dataset_file_id) REFERENCES dataset_files (id)\n",
      ")\n",
      "\n",
      "\n",
      "2023-04-18 17:20:59,963 INFO sqlalchemy.engine.Engine [no key 0.00233s] ()\n",
      "2023-04-18 17:20:59,966 INFO sqlalchemy.engine.Engine \n",
      "CREATE TABLE annotation_files (\n",
      "\tid INTEGER NOT NULL, \n",
      "\tdataset_file_id INTEGER, \n",
      "\tPRIMARY KEY (id), \n",
      "\tFOREIGN KEY(dataset_file_id) REFERENCES dataset_files (id)\n",
      ")\n",
      "\n",
      "\n",
      "2023-04-18 17:20:59,969 INFO sqlalchemy.engine.Engine [no key 0.00272s] ()\n",
      "2023-04-18 17:20:59,972 INFO sqlalchemy.engine.Engine \n",
      "CREATE TABLE annotates (\n",
      "\tannotation_file_id INTEGER, \n",
      "\tdataset_file_id INTEGER, \n",
      "\tFOREIGN KEY(annotation_file_id) REFERENCES annotation_files (id), \n",
      "\tFOREIGN KEY(dataset_file_id) REFERENCES dataset_files (id)\n",
      ")\n",
      "\n",
      "\n",
      "2023-04-18 17:20:59,974 INFO sqlalchemy.engine.Engine [no key 0.00147s] ()\n",
      "2023-04-18 17:20:59,976 INFO sqlalchemy.engine.Engine \n",
      "CREATE TABLE spectrogram_files (\n",
      "\tid INTEGER NOT NULL, \n",
      "\taudio_file_id INTEGER, \n",
      "\tspectrogram_parameters_id INTEGER, \n",
      "\tdataset_file_id INTEGER, \n",
      "\tPRIMARY KEY (id), \n",
      "\tFOREIGN KEY(audio_file_id) REFERENCES audio_files (id), \n",
      "\tFOREIGN KEY(spectrogram_parameters_id) REFERENCES spectrogram_parameters (id), \n",
      "\tFOREIGN KEY(dataset_file_id) REFERENCES dataset_files (id)\n",
      ")\n",
      "\n",
      "\n",
      "2023-04-18 17:20:59,978 INFO sqlalchemy.engine.Engine [no key 0.00149s] ()\n",
      "2023-04-18 17:20:59,980 INFO sqlalchemy.engine.Engine COMMIT\n"
     ]
    }
   ],
   "source": [
    "audio_path = an_audio_path()\n",
    "\n",
    "dataset_audio_file = DatasetFile(path=audio_path, file_type='AudioFile')\n",
    "session.add(dataset_audio_file)\n",
    "\n",
    "audio_file = AudioFile(dataset_file=dataset_audio_file)\n",
    "session.add(audio_file)"
   ]
  },
  {
   "cell_type": "code",
   "execution_count": 13,
   "id": "551d2aab-a857-414f-a359-b9929c8d59b1",
   "metadata": {
    "tags": []
   },
   "outputs": [],
   "source": [
    "spect_params = SpectrogramParameters(fft_size=512, step_size=64)"
   ]
  },
  {
   "cell_type": "code",
   "execution_count": 14,
   "id": "7c45c2b4-b287-4b65-b2e2-119ac25f6aa2",
   "metadata": {
    "tags": []
   },
   "outputs": [],
   "source": [
    "spect_path = './tests/data/source/bird1.npz'\n",
    "dataset_spect_file = DatasetFile(path=spect_path, file_type='SpectrogramFile')\n",
    "session.add(dataset_spect_file)\n",
    "\n",
    "spect_file = SpectrogramFile(dataset_file=dataset_spect_file, spectrogram_parameters=spect_params, source_audio_file=audio_file)\n",
    "session.add(spect_file)"
   ]
  },
  {
   "cell_type": "code",
   "execution_count": 15,
   "id": "90d9466c-6071-4763-9dae-932b562c6624",
   "metadata": {
    "tags": []
   },
   "outputs": [],
   "source": [
    "annot_path = './tests/data/source/bird1.not.mat'\n",
    "dataset_annot_file = DatasetFile(path=annot_path, file_type='AnnotationFile')\n",
    "session.add(dataset_annot_file)\n",
    "\n",
    "annot_file = AnnotationFile(dataset_file=dataset_annot_file, annotates=[dataset_audio_file])\n",
    "session.add(annot_file)"
   ]
  },
  {
   "cell_type": "code",
   "execution_count": 16,
   "id": "0eef832d-dac9-497f-bf0d-16126b6d1690",
   "metadata": {
    "tags": []
   },
   "outputs": [
    {
     "name": "stdout",
     "output_type": "stream",
     "text": [
      "2023-04-18 17:21:00,063 INFO sqlalchemy.engine.Engine BEGIN (implicit)\n",
      "2023-04-18 17:21:00,067 INFO sqlalchemy.engine.Engine INSERT INTO spectrogram_parameters (fft_size, step_size) VALUES (?, ?)\n",
      "2023-04-18 17:21:00,068 INFO sqlalchemy.engine.Engine [generated in 0.00126s] (512, 64)\n",
      "2023-04-18 17:21:00,071 INFO sqlalchemy.engine.Engine INSERT INTO dataset_files (path, file_type) VALUES (?, ?)\n",
      "2023-04-18 17:21:00,072 INFO sqlalchemy.engine.Engine [generated in 0.00102s] ('./tests/data/source/bird1.cbin', 'AudioFile')\n",
      "2023-04-18 17:21:00,074 INFO sqlalchemy.engine.Engine INSERT INTO dataset_files (path, file_type) VALUES (?, ?)\n",
      "2023-04-18 17:21:00,075 INFO sqlalchemy.engine.Engine [cached since 0.003377s ago] ('./tests/data/source/bird1.npz', 'SpectrogramFile')\n",
      "2023-04-18 17:21:00,076 INFO sqlalchemy.engine.Engine INSERT INTO dataset_files (path, file_type) VALUES (?, ?)\n",
      "2023-04-18 17:21:00,076 INFO sqlalchemy.engine.Engine [cached since 0.005357s ago] ('./tests/data/source/bird1.not.mat', 'AnnotationFile')\n",
      "2023-04-18 17:21:00,078 INFO sqlalchemy.engine.Engine INSERT INTO annotation_files (dataset_file_id) VALUES (?)\n",
      "2023-04-18 17:21:00,079 INFO sqlalchemy.engine.Engine [generated in 0.00127s] (3,)\n",
      "2023-04-18 17:21:00,082 INFO sqlalchemy.engine.Engine INSERT INTO audio_files (dataset_file_id) VALUES (?)\n",
      "2023-04-18 17:21:00,083 INFO sqlalchemy.engine.Engine [generated in 0.00122s] (1,)\n",
      "2023-04-18 17:21:00,086 INFO sqlalchemy.engine.Engine INSERT INTO annotates (annotation_file_id, dataset_file_id) VALUES (?, ?)\n",
      "2023-04-18 17:21:00,088 INFO sqlalchemy.engine.Engine [generated in 0.00165s] (1, 1)\n",
      "2023-04-18 17:21:00,091 INFO sqlalchemy.engine.Engine INSERT INTO spectrogram_files (audio_file_id, spectrogram_parameters_id, dataset_file_id) VALUES (?, ?, ?)\n",
      "2023-04-18 17:21:00,093 INFO sqlalchemy.engine.Engine [generated in 0.00139s] (1, 1, 2)\n",
      "2023-04-18 17:21:00,097 INFO sqlalchemy.engine.Engine SELECT audio_files.id AS audio_files_id, audio_files.dataset_file_id AS audio_files_dataset_file_id \n",
      "FROM audio_files\n",
      " LIMIT ? OFFSET ?\n",
      "2023-04-18 17:21:00,099 INFO sqlalchemy.engine.Engine [generated in 0.00146s] (1, 0)\n"
     ]
    }
   ],
   "source": [
    "queried_audio_file = session.query(AudioFile).first()"
   ]
  },
  {
   "cell_type": "code",
   "execution_count": 17,
   "id": "5cbac5cc-72ee-4942-9f1e-2d2b55fba604",
   "metadata": {
    "tags": []
   },
   "outputs": [
    {
     "data": {
      "text/plain": [
       "AudioFile(id=1, dataset_file_id=1)"
      ]
     },
     "execution_count": 17,
     "metadata": {},
     "output_type": "execute_result"
    }
   ],
   "source": [
    "queried_audio_file"
   ]
  },
  {
   "cell_type": "code",
   "execution_count": 18,
   "id": "ac767b50-8366-40f7-a61c-41a7c98dced9",
   "metadata": {
    "tags": []
   },
   "outputs": [
    {
     "name": "stdout",
     "output_type": "stream",
     "text": [
      "2023-04-18 17:21:01,860 INFO sqlalchemy.engine.Engine SELECT spectrogram_files.audio_file_id AS spectrogram_files_audio_file_id, spectrogram_files.id AS spectrogram_files_id, spectrogram_files.spectrogram_parameters_id AS spectrogram_files_spectrogram_parameters_id, spectrogram_files.dataset_file_id AS spectrogram_files_dataset_file_id \n",
      "FROM spectrogram_files\n",
      " LIMIT ? OFFSET ?\n",
      "2023-04-18 17:21:01,862 INFO sqlalchemy.engine.Engine [generated in 0.00225s] (1, 0)\n"
     ]
    }
   ],
   "source": [
    "queried_spect_file = session.query(SpectrogramFile).first()"
   ]
  },
  {
   "cell_type": "code",
   "execution_count": 19,
   "id": "81a5729e-20de-41d4-9c05-37b062c6ea93",
   "metadata": {
    "tags": []
   },
   "outputs": [
    {
     "data": {
      "text/plain": [
       "SpectrogramFile(id=1, source_audio_file=AudioFile(id=1, dataset_file_id=1), spectrogram_parameters=SpectrogramParameters(id=1, fft_size=512, step_size=64)"
      ]
     },
     "execution_count": 19,
     "metadata": {},
     "output_type": "execute_result"
    }
   ],
   "source": [
    "queried_spect_file"
   ]
  },
  {
   "cell_type": "code",
   "execution_count": 20,
   "id": "2c83988f-f6c3-4bfe-a161-c20fe7066a8d",
   "metadata": {
    "tags": []
   },
   "outputs": [
    {
     "name": "stdout",
     "output_type": "stream",
     "text": [
      "2023-04-18 17:52:24,722 INFO sqlalchemy.engine.Engine COMMIT\n"
     ]
    }
   ],
   "source": [
    "session.commit()"
   ]
  },
  {
   "cell_type": "code",
   "execution_count": null,
   "id": "c308268e-0ae6-42d8-b4bb-15d072a94a3a",
   "metadata": {
    "tags": []
   },
   "outputs": [],
   "source": [
    "\n",
    "\n",
    "\n",
    "def test_dataset_file():\n",
    "    engine = get_engine()\n",
    "    session = get_session(engine)\n",
    "\n",
    "    # next line makes tables?\n",
    "    Base.metadata.create_all(engine)\n",
    "    \n",
    "    path = an_audio_path()\n",
    "    \n",
    "    test_file = DatasetFile(path=path, file_type='AudioFile')\n",
    "    session.add(test_file)\n",
    "\n",
    "    queried_file = session.query(DatasetFile).filter_by(path=path).first()\n",
    "    assert queried_file.path == path\n",
    "    assert queried_file.file_type == 'AudioFile'\n",
    "    assert queried_file.id == 1\n",
    "\n",
    "    Base.metadata.drop_all(engine)"
   ]
  },
  {
   "cell_type": "code",
   "execution_count": null,
   "id": "c96aeaf0-8769-4485-9fd6-a4c212ae468e",
   "metadata": {
    "tags": []
   },
   "outputs": [],
   "source": [
    "test_dataset_file()"
   ]
  },
  {
   "cell_type": "code",
   "execution_count": null,
   "id": "c85aea09-6fda-429f-908f-9435d3a54818",
   "metadata": {},
   "outputs": [],
   "source": [
    "def test_audio_file():\n",
    "    engine = get_engine()\n",
    "    session = get_session(engine)\n",
    "\n",
    "    # next line makes tables?\n",
    "    Base.metadata.create_all(engine)\n",
    "    \n",
    "    path = an_audio_path()\n",
    "    \n",
    "    test_dataset_file = DatasetFile(path=path, file_type='AudioFile')\n",
    "    session.add(test_dataset_file)\n",
    "\n",
    "    test_audio_file = AudioFile(dataset_file=test_dataset_file)\n",
    "    session.add(test_audio_file)\n",
    "    \n",
    "    queried_file = session.query(\n",
    "        AudioFile\n",
    "    ).filter_by(\n",
    "        id=1\n",
    "    ).first()\n",
    "    assert queried_file.path == path\n",
    "    assert queried_file.file_type == 'AudioFile'\n",
    "    assert queried_file.id == 1\n",
    "\n",
    "    Base.metadata.drop_all(engine)"
   ]
  },
  {
   "cell_type": "code",
   "execution_count": null,
   "id": "c9a9b9a7-a361-42a3-8e16-4d4dcaeb7ec1",
   "metadata": {
    "tags": []
   },
   "outputs": [],
   "source": [
    "test_audio_file()"
   ]
  },
  {
   "cell_type": "code",
   "execution_count": null,
   "id": "6a34758c-eacb-44b7-9dc7-60d0ae639633",
   "metadata": {},
   "outputs": [],
   "source": []
  }
 ],
 "metadata": {
  "kernelspec": {
   "display_name": "Python 3 (ipykernel)",
   "language": "python",
   "name": "python3"
  },
  "language_info": {
   "codemirror_mode": {
    "name": "ipython",
    "version": 3
   },
   "file_extension": ".py",
   "mimetype": "text/x-python",
   "name": "python",
   "nbconvert_exporter": "python",
   "pygments_lexer": "ipython3",
   "version": "3.10.10"
  }
 },
 "nbformat": 4,
 "nbformat_minor": 5
}
