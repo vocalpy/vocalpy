{
 "cells": [
  {
   "cell_type": "code",
   "execution_count": 1,
   "id": "64670bdc-daf6-4ce2-a126-a6f66e8076bc",
   "metadata": {
    "tags": []
   },
   "outputs": [],
   "source": [
    "import sqlite3"
   ]
  },
  {
   "cell_type": "code",
   "execution_count": 2,
   "id": "3724e12e-17c7-45e2-a609-abf3bd928aa7",
   "metadata": {
    "tags": []
   },
   "outputs": [],
   "source": [
    "connection = sqlite3.connect(':memory:')"
   ]
  },
  {
   "cell_type": "code",
   "execution_count": 3,
   "id": "8b263348-58dc-4921-9de4-d2ffe1025977",
   "metadata": {
    "tags": []
   },
   "outputs": [],
   "source": [
    "cursor = connection.cursor()"
   ]
  },
  {
   "cell_type": "code",
   "execution_count": 9,
   "id": "2739e7ea-7bf5-462c-b20c-b1281eaf4455",
   "metadata": {
    "tags": []
   },
   "outputs": [],
   "source": [
    "sql_create_projects_table = \"\"\"\n",
    "CREATE TABLE IF NOT EXISTS projects (\n",
    "    id integer PRIMARY KEY,\n",
    "    name text NOT NULL,\n",
    "    begin_date text,\n",
    "    end_data_text\n",
    ");\n",
    "\"\"\""
   ]
  },
  {
   "cell_type": "code",
   "execution_count": 10,
   "id": "83dc5857-7b60-4b70-913e-cde4a73ba270",
   "metadata": {
    "tags": []
   },
   "outputs": [],
   "source": [
    "sql_create_tasks_table = \"\"\"\n",
    "CREATE TABLE IF NOT EXISTS tasks (\n",
    "    id integer PRIMARY KEY,\n",
    "    name text NOT NULL,\n",
    "    priority integer,\n",
    "    status_id integer NOT NULL,\n",
    "    project_id integer NOT NULL,\n",
    "    begin_date text OT NULL,\n",
    "    FOREIGN KEY (project_id) REFERENCES projects (id)\n",
    ");\n",
    "\"\"\""
   ]
  },
  {
   "cell_type": "code",
   "execution_count": 11,
   "id": "7da530d1-5eb2-4a5f-aa43-baf4ebe6d204",
   "metadata": {
    "tags": []
   },
   "outputs": [
    {
     "data": {
      "text/plain": [
       "<sqlite3.Cursor at 0x1099a65c0>"
      ]
     },
     "execution_count": 11,
     "metadata": {},
     "output_type": "execute_result"
    }
   ],
   "source": [
    "cursor.execute(sql_create_projects_table)\n"
   ]
  },
  {
   "cell_type": "code",
   "execution_count": 12,
   "id": "d6fdfeeb-61d4-4e9b-91fe-efcfa0d462b5",
   "metadata": {
    "tags": []
   },
   "outputs": [
    {
     "data": {
      "text/plain": [
       "<sqlite3.Cursor at 0x1099a65c0>"
      ]
     },
     "execution_count": 12,
     "metadata": {},
     "output_type": "execute_result"
    }
   ],
   "source": [
    "cursor.execute(sql_create_tasks_table)"
   ]
  },
  {
   "cell_type": "code",
   "execution_count": null,
   "id": "57f7dee7-3b2a-4cfa-a38c-cf2f7497054c",
   "metadata": {},
   "outputs": [],
   "source": []
  }
 ],
 "metadata": {
  "kernelspec": {
   "display_name": "Python 3 (ipykernel)",
   "language": "python",
   "name": "python3"
  },
  "language_info": {
   "codemirror_mode": {
    "name": "ipython",
    "version": 3
   },
   "file_extension": ".py",
   "mimetype": "text/x-python",
   "name": "python",
   "nbconvert_exporter": "python",
   "pygments_lexer": "ipython3",
   "version": "3.10.10"
  }
 },
 "nbformat": 4,
 "nbformat_minor": 5
}
