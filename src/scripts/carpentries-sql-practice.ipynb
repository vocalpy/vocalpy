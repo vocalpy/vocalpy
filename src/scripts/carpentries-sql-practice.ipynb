{
 "cells": [
  {
   "cell_type": "code",
   "execution_count": 4,
   "id": "0272c631-e213-4e8e-a3d3-4907a4eed57c",
   "metadata": {
    "tags": []
   },
   "outputs": [],
   "source": [
    "from sqlalchemy import Column, create_engine, Integer, String\n",
    "from sqlalchemy.ext.declarative import declarative_base"
   ]
  },
  {
   "cell_type": "code",
   "execution_count": 12,
   "id": "d22c1bc7-410d-46c3-9126-7c09794b5e2d",
   "metadata": {
    "tags": []
   },
   "outputs": [],
   "source": [
    "Base = declarative_base()\n",
    "\n",
    "class Patient(Base):\n",
    "    __tablename__ = 'patients'\n",
    "    \n",
    "    id = Column(Integer, primary_key=True)\n",
    "    name = Column(String)\n",
    "    \n",
    "    def __init__(self, observations=None, *args, **kwargs):\n",
    "        super().__init__(*args, **kwargs)\n",
    "        \n",
    "        if observations is None:\n",
    "            observations = []\n",
    "\n",
    "        self.observations = observations"
   ]
  },
  {
   "cell_type": "code",
   "execution_count": 13,
   "id": "fea23cac-4133-4f05-8f40-b43f10bc88e6",
   "metadata": {
    "tags": []
   },
   "outputs": [],
   "source": [
    "from sqlalchemy import create_engine\n",
    "from sqlalchemy.orm import sessionmaker"
   ]
  },
  {
   "cell_type": "code",
   "execution_count": 16,
   "id": "3a9a55e0-3304-453c-a028-da8a8bd8d7e6",
   "metadata": {
    "tags": []
   },
   "outputs": [],
   "source": [
    "def get_engine():\n",
    "     return create_engine('sqlite:///:memory:', echo=True)\n",
    "\n",
    "def get_session(engine):\n",
    "    Session = sessionmaker(bind=engine)\n",
    "    session = Session()\n",
    "    return session\n",
    "\n",
    "def test_patient():\n",
    "    engine = get_engine()\n",
    "    session = get_session(engine)\n",
    "\n",
    "    # next line makes tables?\n",
    "    Base.metadata.create_all(engine)\n",
    "    \n",
    "    test_patient = Patient(name='Alice')\n",
    "    session.add(test_patient)\n",
    "    \n",
    "    queried_patient = session.query(Patient).filter_by(name='Alice').first()\n",
    "    assert queried_patient.name == 'Alice'\n",
    "    assert queried_patient.id == 1\n",
    "\n",
    "    Base.metadata.drop_all(engine)"
   ]
  },
  {
   "cell_type": "code",
   "execution_count": 17,
   "id": "c96aeaf0-8769-4485-9fd6-a4c212ae468e",
   "metadata": {
    "tags": []
   },
   "outputs": [
    {
     "name": "stdout",
     "output_type": "stream",
     "text": [
      "2023-04-18 10:51:11,697 INFO sqlalchemy.engine.Engine BEGIN (implicit)\n",
      "2023-04-18 10:51:11,698 INFO sqlalchemy.engine.Engine PRAGMA main.table_info(\"patients\")\n",
      "2023-04-18 10:51:11,698 INFO sqlalchemy.engine.Engine [raw sql] ()\n",
      "2023-04-18 10:51:11,700 INFO sqlalchemy.engine.Engine PRAGMA temp.table_info(\"patients\")\n",
      "2023-04-18 10:51:11,700 INFO sqlalchemy.engine.Engine [raw sql] ()\n",
      "2023-04-18 10:51:11,702 INFO sqlalchemy.engine.Engine \n",
      "CREATE TABLE patients (\n",
      "\tid INTEGER NOT NULL, \n",
      "\tname VARCHAR, \n",
      "\tPRIMARY KEY (id)\n",
      ")\n",
      "\n",
      "\n",
      "2023-04-18 10:51:11,703 INFO sqlalchemy.engine.Engine [no key 0.00156s] ()\n",
      "2023-04-18 10:51:11,705 INFO sqlalchemy.engine.Engine COMMIT\n",
      "2023-04-18 10:51:11,707 INFO sqlalchemy.engine.Engine BEGIN (implicit)\n",
      "2023-04-18 10:51:11,708 INFO sqlalchemy.engine.Engine INSERT INTO patients (name) VALUES (?)\n",
      "2023-04-18 10:51:11,709 INFO sqlalchemy.engine.Engine [generated in 0.00124s] ('Alice',)\n",
      "2023-04-18 10:51:11,714 INFO sqlalchemy.engine.Engine SELECT patients.id AS patients_id, patients.name AS patients_name \n",
      "FROM patients \n",
      "WHERE patients.name = ?\n",
      " LIMIT ? OFFSET ?\n",
      "2023-04-18 10:51:11,715 INFO sqlalchemy.engine.Engine [generated in 0.00106s] ('Alice', 1, 0)\n",
      "2023-04-18 10:51:11,720 INFO sqlalchemy.engine.Engine BEGIN (implicit)\n",
      "2023-04-18 10:51:11,721 INFO sqlalchemy.engine.Engine PRAGMA main.table_info(\"patients\")\n",
      "2023-04-18 10:51:11,722 INFO sqlalchemy.engine.Engine [raw sql] ()\n",
      "2023-04-18 10:51:11,724 INFO sqlalchemy.engine.Engine \n",
      "DROP TABLE patients\n",
      "2023-04-18 10:51:11,725 INFO sqlalchemy.engine.Engine [no key 0.00074s] ()\n",
      "2023-04-18 10:51:11,726 INFO sqlalchemy.engine.Engine COMMIT\n"
     ]
    }
   ],
   "source": [
    "test_patient()"
   ]
  },
  {
   "cell_type": "code",
   "execution_count": null,
   "id": "c85aea09-6fda-429f-908f-9435d3a54818",
   "metadata": {},
   "outputs": [],
   "source": []
  }
 ],
 "metadata": {
  "kernelspec": {
   "display_name": "Python 3 (ipykernel)",
   "language": "python",
   "name": "python3"
  },
  "language_info": {
   "codemirror_mode": {
    "name": "ipython",
    "version": 3
   },
   "file_extension": ".py",
   "mimetype": "text/x-python",
   "name": "python",
   "nbconvert_exporter": "python",
   "pygments_lexer": "ipython3",
   "version": "3.10.10"
  }
 },
 "nbformat": 4,
 "nbformat_minor": 5
}
