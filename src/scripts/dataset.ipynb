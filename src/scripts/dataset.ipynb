{
 "cells": [
  {
   "cell_type": "code",
   "execution_count": 1,
   "id": "d3ab9758-9506-4aa2-b693-729bc48fd659",
   "metadata": {
    "tags": []
   },
   "outputs": [],
   "source": [
    "import enum\n",
    "import pathlib\n",
    "from typing import Union, TypeAlias\n",
    "\n",
    "import attrs\n",
    "from sqlalchemy import MetaData\n",
    "\n",
    "import vocalpy as voc"
   ]
  },
  {
   "cell_type": "code",
   "execution_count": 2,
   "id": "73c16dd6-f992-4982-939a-bf00e1029cca",
   "metadata": {
    "tags": []
   },
   "outputs": [
    {
     "name": "stdout",
     "output_type": "stream",
     "text": [
      "/Users/davidnicholson/Documents/repos/coding/vocalpy/vocalpy\n"
     ]
    }
   ],
   "source": [
    "cd /Users/davidnicholson/Documents/repos/coding/vocalpy/vocalpy"
   ]
  },
  {
   "cell_type": "code",
   "execution_count": 3,
   "id": "94c0c32d-b528-4d06-a752-f9d345c51625",
   "metadata": {
    "tags": []
   },
   "outputs": [],
   "source": [
    "cbin_paths = voc.paths.from_dir('./tests/data-for-tests/source/audio_cbin_annot_notmat/gy6or6/032312/', 'cbin')\n",
    "audio_files = [voc.dataset.AudioFile(path=cbin_path) for cbin_path in cbin_paths]"
   ]
  },
  {
   "cell_type": "code",
   "execution_count": 4,
   "id": "e175c1f5-1f14-48f9-895c-040313305ea1",
   "metadata": {
    "tags": []
   },
   "outputs": [
    {
     "data": {
      "text/plain": [
       "[AudioFile(path=PosixPath('tests/data-for-tests/source/audio_cbin_annot_notmat/gy6or6/032312/gy6or6_baseline_230312_0808.138.cbin')),\n",
       " AudioFile(path=PosixPath('tests/data-for-tests/source/audio_cbin_annot_notmat/gy6or6/032312/gy6or6_baseline_230312_0809.141.cbin')),\n",
       " AudioFile(path=PosixPath('tests/data-for-tests/source/audio_cbin_annot_notmat/gy6or6/032312/gy6or6_baseline_230312_0810.148.cbin'))]"
      ]
     },
     "execution_count": 4,
     "metadata": {},
     "output_type": "execute_result"
    }
   ],
   "source": [
    "audio_files[:3]"
   ]
  },
  {
   "cell_type": "code",
   "execution_count": 5,
   "id": "7b8b945d-a1c3-4b28-b9c9-7e7611336b64",
   "metadata": {
    "tags": []
   },
   "outputs": [],
   "source": [
    "dataset_files = []\n",
    "for audio_file in audio_files:\n",
    "    dataset_file = voc.dataset.domain_model.DatasetFile(\n",
    "        file=audio_file,\n",
    "        file_type=voc.dataset.domain_model.DatasetFileTypeEnum(type(audio_file)),\n",
    "        path=audio_file.path\n",
    "    )\n",
    "    dataset_files.append(dataset_file)"
   ]
  },
  {
   "cell_type": "code",
   "execution_count": 6,
   "id": "be368896-a9fc-4568-babc-e97afecfe07d",
   "metadata": {
    "tags": []
   },
   "outputs": [
    {
     "data": {
      "text/plain": [
       "DatasetFile(file=AudioFile(path=PosixPath('tests/data-for-tests/source/audio_cbin_annot_notmat/gy6or6/032312/gy6or6_baseline_230312_0808.138.cbin')), file_type=<DatasetFileTypeEnum.AUDIO: <class 'vocalpy.dataset.domain_model.audio_file.AudioFile'>>, path=PosixPath('tests/data-for-tests/source/audio_cbin_annot_notmat/gy6or6/032312/gy6or6_baseline_230312_0808.138.cbin'))"
      ]
     },
     "execution_count": 6,
     "metadata": {},
     "output_type": "execute_result"
    }
   ],
   "source": [
    "dataset_files[0]"
   ]
  },
  {
   "cell_type": "code",
   "execution_count": 7,
   "id": "70577aad-1b8f-4119-9cf0-5647a2ad035e",
   "metadata": {
    "tags": []
   },
   "outputs": [],
   "source": [
    "from sqlalchemy import create_engine\n",
    "from sqlalchemy.orm import sessionmaker"
   ]
  },
  {
   "cell_type": "code",
   "execution_count": 8,
   "id": "efa11706-d23e-4301-886a-7c910ec886e2",
   "metadata": {
    "tags": []
   },
   "outputs": [],
   "source": [
    "engine = create_engine('sqlite:///:memory:', echo=True)\n",
    "Session = sessionmaker(bind=engine)\n",
    "session = Session()"
   ]
  },
  {
   "cell_type": "code",
   "execution_count": 9,
   "id": "6e0bfa4a-7b5c-4252-9411-181efc058921",
   "metadata": {
    "tags": []
   },
   "outputs": [
    {
     "name": "stdout",
     "output_type": "stream",
     "text": [
      "2023-04-20 19:37:59,906 INFO sqlalchemy.engine.Engine BEGIN (implicit)\n",
      "2023-04-20 19:37:59,908 INFO sqlalchemy.engine.Engine PRAGMA main.table_info(\"audio_files\")\n",
      "2023-04-20 19:37:59,908 INFO sqlalchemy.engine.Engine [raw sql] ()\n",
      "2023-04-20 19:37:59,909 INFO sqlalchemy.engine.Engine PRAGMA temp.table_info(\"audio_files\")\n",
      "2023-04-20 19:37:59,910 INFO sqlalchemy.engine.Engine [raw sql] ()\n",
      "2023-04-20 19:37:59,911 INFO sqlalchemy.engine.Engine PRAGMA main.table_info(\"annotates\")\n",
      "2023-04-20 19:37:59,911 INFO sqlalchemy.engine.Engine [raw sql] ()\n",
      "2023-04-20 19:37:59,912 INFO sqlalchemy.engine.Engine PRAGMA temp.table_info(\"annotates\")\n",
      "2023-04-20 19:37:59,913 INFO sqlalchemy.engine.Engine [raw sql] ()\n",
      "2023-04-20 19:37:59,914 INFO sqlalchemy.engine.Engine PRAGMA main.table_info(\"annotation_files\")\n",
      "2023-04-20 19:37:59,915 INFO sqlalchemy.engine.Engine [raw sql] ()\n",
      "2023-04-20 19:37:59,916 INFO sqlalchemy.engine.Engine PRAGMA temp.table_info(\"annotation_files\")\n",
      "2023-04-20 19:37:59,917 INFO sqlalchemy.engine.Engine [raw sql] ()\n",
      "2023-04-20 19:37:59,919 INFO sqlalchemy.engine.Engine PRAGMA main.table_info(\"spectrogram_files\")\n",
      "2023-04-20 19:37:59,921 INFO sqlalchemy.engine.Engine [raw sql] ()\n",
      "2023-04-20 19:37:59,924 INFO sqlalchemy.engine.Engine PRAGMA temp.table_info(\"spectrogram_files\")\n",
      "2023-04-20 19:37:59,925 INFO sqlalchemy.engine.Engine [raw sql] ()\n",
      "2023-04-20 19:37:59,927 INFO sqlalchemy.engine.Engine PRAGMA main.table_info(\"spectrogram_parameters\")\n",
      "2023-04-20 19:37:59,928 INFO sqlalchemy.engine.Engine [raw sql] ()\n",
      "2023-04-20 19:37:59,930 INFO sqlalchemy.engine.Engine PRAGMA temp.table_info(\"spectrogram_parameters\")\n",
      "2023-04-20 19:37:59,932 INFO sqlalchemy.engine.Engine [raw sql] ()\n",
      "2023-04-20 19:37:59,934 INFO sqlalchemy.engine.Engine PRAGMA main.table_info(\"dataset_files\")\n",
      "2023-04-20 19:37:59,935 INFO sqlalchemy.engine.Engine [raw sql] ()\n",
      "2023-04-20 19:37:59,938 INFO sqlalchemy.engine.Engine PRAGMA temp.table_info(\"dataset_files\")\n",
      "2023-04-20 19:37:59,940 INFO sqlalchemy.engine.Engine [raw sql] ()\n",
      "2023-04-20 19:37:59,943 INFO sqlalchemy.engine.Engine \n",
      "CREATE TABLE spectrogram_parameters (\n",
      "\tid INTEGER NOT NULL, \n",
      "\tfft_size INTEGER, \n",
      "\tstep_size INTEGER, \n",
      "\tPRIMARY KEY (id)\n",
      ")\n",
      "\n",
      "\n",
      "2023-04-20 19:37:59,944 INFO sqlalchemy.engine.Engine [no key 0.00135s] ()\n",
      "2023-04-20 19:37:59,946 INFO sqlalchemy.engine.Engine \n",
      "CREATE TABLE dataset_files (\n",
      "\tid INTEGER NOT NULL, \n",
      "\tpath VARCHAR, \n",
      "\tfile_type VARCHAR(15), \n",
      "\tPRIMARY KEY (id)\n",
      ")\n",
      "\n",
      "\n",
      "2023-04-20 19:37:59,947 INFO sqlalchemy.engine.Engine [no key 0.00110s] ()\n",
      "2023-04-20 19:37:59,949 INFO sqlalchemy.engine.Engine \n",
      "CREATE TABLE audio_files (\n",
      "\tid INTEGER NOT NULL, \n",
      "\tdataset_file_id INTEGER, \n",
      "\tPRIMARY KEY (id), \n",
      "\tFOREIGN KEY(dataset_file_id) REFERENCES dataset_files (id)\n",
      ")\n",
      "\n",
      "\n",
      "2023-04-20 19:37:59,950 INFO sqlalchemy.engine.Engine [no key 0.00093s] ()\n",
      "2023-04-20 19:37:59,952 INFO sqlalchemy.engine.Engine \n",
      "CREATE TABLE annotation_files (\n",
      "\tid INTEGER NOT NULL, \n",
      "\tdataset_file_id INTEGER, \n",
      "\tPRIMARY KEY (id), \n",
      "\tFOREIGN KEY(dataset_file_id) REFERENCES dataset_files (id)\n",
      ")\n",
      "\n",
      "\n",
      "2023-04-20 19:37:59,953 INFO sqlalchemy.engine.Engine [no key 0.00099s] ()\n",
      "2023-04-20 19:37:59,955 INFO sqlalchemy.engine.Engine \n",
      "CREATE TABLE annotates (\n",
      "\tannotation_file_id INTEGER, \n",
      "\tdataset_file_id INTEGER, \n",
      "\tFOREIGN KEY(annotation_file_id) REFERENCES annotation_files (id), \n",
      "\tFOREIGN KEY(dataset_file_id) REFERENCES dataset_files (id)\n",
      ")\n",
      "\n",
      "\n",
      "2023-04-20 19:37:59,956 INFO sqlalchemy.engine.Engine [no key 0.00137s] ()\n",
      "2023-04-20 19:37:59,958 INFO sqlalchemy.engine.Engine \n",
      "CREATE TABLE spectrogram_files (\n",
      "\tid INTEGER NOT NULL, \n",
      "\taudio_file_id INTEGER, \n",
      "\tspectrogram_parameters_id INTEGER, \n",
      "\tdataset_file_id INTEGER, \n",
      "\tPRIMARY KEY (id), \n",
      "\tFOREIGN KEY(audio_file_id) REFERENCES audio_files (id), \n",
      "\tFOREIGN KEY(spectrogram_parameters_id) REFERENCES spectrogram_parameters (id), \n",
      "\tFOREIGN KEY(dataset_file_id) REFERENCES dataset_files (id)\n",
      ")\n",
      "\n",
      "\n",
      "2023-04-20 19:37:59,959 INFO sqlalchemy.engine.Engine [no key 0.00100s] ()\n",
      "2023-04-20 19:37:59,960 INFO sqlalchemy.engine.Engine COMMIT\n"
     ]
    }
   ],
   "source": [
    "voc.dataset.orm.Base.metadata.create_all(engine)"
   ]
  },
  {
   "cell_type": "code",
   "execution_count": 10,
   "id": "3a693e1c-732b-46ff-82db-62a1c2539ae8",
   "metadata": {
    "tags": []
   },
   "outputs": [],
   "source": [
    "orm_dataset_file = voc.dataset.orm.DatasetFile(\n",
    "    path=str(dataset_files[0].path),\n",
    "    file_type=dataset_files[0].file.__class__.__name__\n",
    ")\n",
    "\n",
    "session.add(orm_dataset_file)"
   ]
  },
  {
   "cell_type": "code",
   "execution_count": 11,
   "id": "ae32fb0f-3e2e-4696-84c5-ea1e2263d578",
   "metadata": {
    "tags": []
   },
   "outputs": [],
   "source": [
    "orm_audio_file = voc.dataset.orm.AudioFile(\n",
    "    dataset_file=orm_dataset_file\n",
    ")\n",
    "\n",
    "session.add(orm_audio_file)"
   ]
  },
  {
   "cell_type": "code",
   "execution_count": 12,
   "id": "f126fdd9-0f36-42e5-83c8-3c1e0f028ef6",
   "metadata": {
    "tags": []
   },
   "outputs": [
    {
     "name": "stdout",
     "output_type": "stream",
     "text": [
      "2023-04-20 19:38:15,492 INFO sqlalchemy.engine.Engine BEGIN (implicit)\n",
      "2023-04-20 19:38:15,495 INFO sqlalchemy.engine.Engine INSERT INTO dataset_files (path, file_type) VALUES (?, ?)\n",
      "2023-04-20 19:38:15,497 INFO sqlalchemy.engine.Engine [generated in 0.00147s] ('tests/data-for-tests/source/audio_cbin_annot_notmat/gy6or6/032312/gy6or6_baseline_230312_0808.138.cbin', 'AudioFile')\n",
      "2023-04-20 19:38:15,499 INFO sqlalchemy.engine.Engine INSERT INTO audio_files (dataset_file_id) VALUES (?)\n",
      "2023-04-20 19:38:15,500 INFO sqlalchemy.engine.Engine [generated in 0.00117s] (1,)\n"
     ]
    }
   ],
   "source": [
    "session.flush()"
   ]
  },
  {
   "cell_type": "code",
   "execution_count": 13,
   "id": "4692810e-0d80-44e7-b704-b2d182ae562c",
   "metadata": {
    "tags": []
   },
   "outputs": [
    {
     "data": {
      "text/plain": [
       "DatasetFile(id=1, path='tests/data-for-tests/source/audio_cbin_annot_notmat/gy6or6/032312/gy6or6_baseline_230312_0808.138.cbin', file_type='AudioFile'"
      ]
     },
     "execution_count": 13,
     "metadata": {},
     "output_type": "execute_result"
    }
   ],
   "source": [
    "orm_dataset_file"
   ]
  },
  {
   "cell_type": "code",
   "execution_count": 14,
   "id": "6bb8867f-59e1-4e76-ac62-6cf5b12ccbd7",
   "metadata": {
    "tags": []
   },
   "outputs": [
    {
     "data": {
      "text/plain": [
       "AudioFile(id=1, dataset_file_id=1)"
      ]
     },
     "execution_count": 14,
     "metadata": {},
     "output_type": "execute_result"
    }
   ],
   "source": [
    "orm_audio_file"
   ]
  },
  {
   "cell_type": "code",
   "execution_count": 14,
   "id": "f1d73792-5047-46e4-843d-d651ed7435cb",
   "metadata": {
    "tags": []
   },
   "outputs": [
    {
     "name": "stdout",
     "output_type": "stream",
     "text": [
      "2023-04-20 19:16:24,184 INFO sqlalchemy.engine.Engine BEGIN (implicit)\n",
      "2023-04-20 19:16:24,192 INFO sqlalchemy.engine.Engine INSERT INTO dataset_files (path, file_type) VALUES (?, ?)\n",
      "2023-04-20 19:16:24,193 INFO sqlalchemy.engine.Engine [generated in 0.00149s] ('tests/data-for-tests/source/audio_cbin_annot_notmat/gy6or6/032312/gy6or6_baseline_230312_0808.138.cbin', 'AudioFile')\n",
      "2023-04-20 19:16:24,196 INFO sqlalchemy.engine.Engine INSERT INTO audio_files (dataset_file_id) VALUES (?)\n",
      "2023-04-20 19:16:24,197 INFO sqlalchemy.engine.Engine [generated in 0.00143s] (1,)\n",
      "2023-04-20 19:16:24,199 INFO sqlalchemy.engine.Engine COMMIT\n"
     ]
    }
   ],
   "source": [
    "session.commit()"
   ]
  },
  {
   "cell_type": "code",
   "execution_count": null,
   "id": "2fba0a76-be91-438f-90fa-8009aec9b6e6",
   "metadata": {},
   "outputs": [],
   "source": []
  },
  {
   "cell_type": "code",
   "execution_count": 7,
   "id": "a380808c-5dbc-434b-be91-03ffbbc3f64e",
   "metadata": {
    "tags": []
   },
   "outputs": [],
   "source": [
    "from sqlalchemy import create_engine\n",
    "from sqlalchemy.orm import sessionmaker\n",
    "\n",
    "\n",
    "def make_dataset(dataset_files, db_path='sqlite:///:memory:', echo=True):\n",
    "    engine = create_engine(db_path, echo=echo)\n",
    "    Session = sessionmaker(bind=engine)\n",
    "    session = Session()\n",
    "    \n",
    "    voc.dataset.orm.Base.metadata.create_all(engine)\n",
    "    \n",
    "    for dataset_file in dataset_files:\n",
    "        orm_dataset_file = voc.dataset.orm.DatasetFile(\n",
    "            path=str(dataset_file.path),\n",
    "            file_type=dataset_file.file.__name__\n",
    "        )\n",
    "        \n",
    "        specific_file = dataset_file.file\n",
    "        if isinstance(specific_file, voc.dataset.AudioFile):\n",
    "            audio_file = voc.dataset.orm.AudioFile(\n",
    "                "
   ]
  },
  {
   "cell_type": "code",
   "execution_count": 8,
   "id": "1864deff-20e5-473f-aaff-621441e5c05f",
   "metadata": {
    "tags": []
   },
   "outputs": [],
   "source": []
  },
  {
   "cell_type": "code",
   "execution_count": 9,
   "id": "c6a132bb-c841-421a-8f0d-0800839c8109",
   "metadata": {
    "tags": []
   },
   "outputs": [
    {
     "data": {
      "text/plain": [
       "<Mapper at 0x126a29de0; DatasetFile>"
      ]
     },
     "execution_count": 9,
     "metadata": {},
     "output_type": "execute_result"
    }
   ],
   "source": []
  },
  {
   "cell_type": "code",
   "execution_count": 11,
   "id": "01023d79-5eaa-4e07-a2b1-0bb37ba78a69",
   "metadata": {
    "tags": []
   },
   "outputs": [
    {
     "data": {
      "text/plain": [
       "<function sqlalchemy.orm.decl_api.registry.mapped(self, cls)>"
      ]
     },
     "execution_count": 11,
     "metadata": {},
     "output_type": "execute_result"
    }
   ],
   "source": [
    "registry.mapped"
   ]
  },
  {
   "cell_type": "code",
   "execution_count": 12,
   "id": "48e24b77-2bcf-4f25-bc3c-10d2703ac69e",
   "metadata": {
    "tags": []
   },
   "outputs": [],
   "source": [
    "from sqlalchemy import create_engine\n",
    "from sqlalchemy.orm import sessionmaker\n",
    "\n",
    "engine = create_engine(\"sqlite+pysqlite:///:memory:\", echo=True, future=True)\n",
    "Session = sessionmaker()\n",
    "Session.configure(bind=engine)\n",
    "session = Session()"
   ]
  },
  {
   "cell_type": "code",
   "execution_count": 13,
   "id": "7ba87feb-674a-4c1a-9009-0f6f569966eb",
   "metadata": {
    "tags": []
   },
   "outputs": [
    {
     "ename": "UnmappedInstanceError",
     "evalue": "Class 'vocalpy.dataset.domain_model.dataset_file.DatasetFile' is mapped, but this instance lacks instrumentation.  This occurs when the instance is created before sqlalchemy.orm.mapper(vocalpy.dataset.domain_model.dataset_file.DatasetFile) was called.",
     "output_type": "error",
     "traceback": [
      "\u001B[0;31m---------------------------------------------------------------------------\u001B[0m",
      "\u001B[0;31mAttributeError\u001B[0m                            Traceback (most recent call last)",
      "File \u001B[0;32m~/Documents/repos/coding/vocalpy/vocalpy/.venv/lib/python3.10/site-packages/sqlalchemy/orm/session.py:2638\u001B[0m, in \u001B[0;36mSession.add\u001B[0;34m(self, instance, _warn)\u001B[0m\n\u001B[1;32m   2637\u001B[0m \u001B[38;5;28;01mtry\u001B[39;00m:\n\u001B[0;32m-> 2638\u001B[0m     state \u001B[38;5;241m=\u001B[39m \u001B[43mattributes\u001B[49m\u001B[38;5;241;43m.\u001B[39;49m\u001B[43minstance_state\u001B[49m\u001B[43m(\u001B[49m\u001B[43minstance\u001B[49m\u001B[43m)\u001B[49m\n\u001B[1;32m   2639\u001B[0m \u001B[38;5;28;01mexcept\u001B[39;00m exc\u001B[38;5;241m.\u001B[39mNO_STATE \u001B[38;5;28;01mas\u001B[39;00m err:\n",
      "\u001B[0;31mAttributeError\u001B[0m: 'DatasetFile' object has no attribute '_sa_instance_state'",
      "\nThe above exception was the direct cause of the following exception:\n",
      "\u001B[0;31mUnmappedInstanceError\u001B[0m                     Traceback (most recent call last)",
      "Cell \u001B[0;32mIn[13], line 1\u001B[0m\n\u001B[0;32m----> 1\u001B[0m \u001B[43msession\u001B[49m\u001B[38;5;241;43m.\u001B[39;49m\u001B[43madd\u001B[49m\u001B[43m(\u001B[49m\u001B[43mdataset_files\u001B[49m\u001B[43m[\u001B[49m\u001B[38;5;241;43m0\u001B[39;49m\u001B[43m]\u001B[49m\u001B[43m)\u001B[49m\n",
      "File \u001B[0;32m~/Documents/repos/coding/vocalpy/vocalpy/.venv/lib/python3.10/site-packages/sqlalchemy/orm/session.py:2640\u001B[0m, in \u001B[0;36mSession.add\u001B[0;34m(self, instance, _warn)\u001B[0m\n\u001B[1;32m   2638\u001B[0m     state \u001B[38;5;241m=\u001B[39m attributes\u001B[38;5;241m.\u001B[39minstance_state(instance)\n\u001B[1;32m   2639\u001B[0m \u001B[38;5;28;01mexcept\u001B[39;00m exc\u001B[38;5;241m.\u001B[39mNO_STATE \u001B[38;5;28;01mas\u001B[39;00m err:\n\u001B[0;32m-> 2640\u001B[0m     \u001B[43mutil\u001B[49m\u001B[38;5;241;43m.\u001B[39;49m\u001B[43mraise_\u001B[49m\u001B[43m(\u001B[49m\n\u001B[1;32m   2641\u001B[0m \u001B[43m        \u001B[49m\u001B[43mexc\u001B[49m\u001B[38;5;241;43m.\u001B[39;49m\u001B[43mUnmappedInstanceError\u001B[49m\u001B[43m(\u001B[49m\u001B[43minstance\u001B[49m\u001B[43m)\u001B[49m\u001B[43m,\u001B[49m\n\u001B[1;32m   2642\u001B[0m \u001B[43m        \u001B[49m\u001B[43mreplace_context\u001B[49m\u001B[38;5;241;43m=\u001B[39;49m\u001B[43merr\u001B[49m\u001B[43m,\u001B[49m\n\u001B[1;32m   2643\u001B[0m \u001B[43m    \u001B[49m\u001B[43m)\u001B[49m\n\u001B[1;32m   2645\u001B[0m \u001B[38;5;28mself\u001B[39m\u001B[38;5;241m.\u001B[39m_save_or_update_state(state)\n",
      "File \u001B[0;32m~/Documents/repos/coding/vocalpy/vocalpy/.venv/lib/python3.10/site-packages/sqlalchemy/util/compat.py:211\u001B[0m, in \u001B[0;36mraise_\u001B[0;34m(***failed resolving arguments***)\u001B[0m\n\u001B[1;32m    208\u001B[0m     exception\u001B[38;5;241m.\u001B[39m__cause__ \u001B[38;5;241m=\u001B[39m replace_context\n\u001B[1;32m    210\u001B[0m \u001B[38;5;28;01mtry\u001B[39;00m:\n\u001B[0;32m--> 211\u001B[0m     \u001B[38;5;28;01mraise\u001B[39;00m exception\n\u001B[1;32m    212\u001B[0m \u001B[38;5;28;01mfinally\u001B[39;00m:\n\u001B[1;32m    213\u001B[0m     \u001B[38;5;66;03m# credit to\u001B[39;00m\n\u001B[1;32m    214\u001B[0m     \u001B[38;5;66;03m# https://cosmicpercolator.com/2016/01/13/exception-leaks-in-python-2-and-3/\u001B[39;00m\n\u001B[1;32m    215\u001B[0m     \u001B[38;5;66;03m# as the __traceback__ object creates a cycle\u001B[39;00m\n\u001B[1;32m    216\u001B[0m     \u001B[38;5;28;01mdel\u001B[39;00m exception, replace_context, from_, with_traceback\n",
      "\u001B[0;31mUnmappedInstanceError\u001B[0m: Class 'vocalpy.dataset.domain_model.dataset_file.DatasetFile' is mapped, but this instance lacks instrumentation.  This occurs when the instance is created before sqlalchemy.orm.mapper(vocalpy.dataset.domain_model.dataset_file.DatasetFile) was called."
     ]
    }
   ],
   "source": [
    "session.add(dataset_files[0])"
   ]
  },
  {
   "cell_type": "code",
   "execution_count": 2,
   "id": "e6184734-d321-44b7-9968-a9773adb3e8c",
   "metadata": {
    "tags": []
   },
   "outputs": [],
   "source": [
    "metadata_obj = MetaData()"
   ]
  },
  {
   "cell_type": "code",
   "execution_count": 4,
   "id": "cddde461-7121-4842-9440-b4aa9a6a3877",
   "metadata": {},
   "outputs": [],
   "source": [
    "from sqlalchemy import Table, Column, Integer, String"
   ]
  },
  {
   "cell_type": "code",
   "execution_count": 8,
   "id": "ad11ceae-2628-4f46-9228-226f79276eb9",
   "metadata": {
    "tags": []
   },
   "outputs": [],
   "source": [
    "from sqlalchemy.orm import declarative_base\n",
    "\n",
    "Base = declarative_base()"
   ]
  },
  {
   "cell_type": "code",
   "execution_count": null,
   "id": "5cf5eab8-c6ff-4693-95c0-53e9aae05503",
   "metadata": {},
   "outputs": [],
   "source": [
    "class Dataset(Base):\n",
    "    __tablename__ = \"dataset\"\n",
    "    # metadata_obj\n",
    "    id = Column(Integer, primary_key=True)\n",
    "    file = Column(\"path\", String)\n",
    ")"
   ]
  }
 ],
 "metadata": {
  "kernelspec": {
   "display_name": "Python 3 (ipykernel)",
   "language": "python",
   "name": "python3"
  },
  "language_info": {
   "codemirror_mode": {
    "name": "ipython",
    "version": 3
   },
   "file_extension": ".py",
   "mimetype": "text/x-python",
   "name": "python",
   "nbconvert_exporter": "python",
   "pygments_lexer": "ipython3",
   "version": "3.10.10"
  }
 },
 "nbformat": 4,
 "nbformat_minor": 5
}
