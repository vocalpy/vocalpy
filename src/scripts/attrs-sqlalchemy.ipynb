{
 "cells": [
  {
   "cell_type": "markdown",
   "id": "1f9171e4-a3d2-4801-954b-4f4d929acabd",
   "metadata": {},
   "source": [
    "Adapted from this gist: https://gist.github.com/aodag/ed327394bd2cfabda0c337eacce1ab69  \n",
    "Using the new attrs API breaks it though"
   ]
  },
  {
   "cell_type": "code",
   "execution_count": 1,
   "id": "6615d0b0-a34b-4502-af77-c56ae3a2ccc8",
   "metadata": {
    "tags": []
   },
   "outputs": [],
   "source": [
    "from typing import Optional\n",
    "import attrs\n",
    "from sqlalchemy import (\n",
    "    Table,\n",
    "    MetaData,\n",
    "    Column,\n",
    "    Unicode,\n",
    "    Integer,\n",
    "    create_engine,\n",
    "    ForeignKey,\n",
    ")\n",
    "from sqlalchemy.orm import registry, sessionmaker, relationship"
   ]
  },
  {
   "cell_type": "code",
   "execution_count": 2,
   "id": "f0d46d86-a8d5-4e52-959e-3df99c6c574a",
   "metadata": {
    "tags": []
   },
   "outputs": [],
   "source": [
    "@attrs.define\n",
    "class Job:\n",
    "    id: Optional[int] = attrs.field(default=None)\n",
    "    name: str = attrs.field(default=\"\")"
   ]
  },
  {
   "cell_type": "code",
   "execution_count": 3,
   "id": "979555dc-745a-430f-adcd-fe5c0afe9f5e",
   "metadata": {
    "tags": []
   },
   "outputs": [],
   "source": [
    "@attrs.define\n",
    "class Person:\n",
    "    id: Optional[int] = attrs.field(default=None)\n",
    "    name: str = attrs.field(default=\"\")\n",
    "    job: Job = attrs.field(default=None)"
   ]
  },
  {
   "cell_type": "code",
   "execution_count": 4,
   "id": "b8982987-328a-4e5b-bbc9-e50c9fefc408",
   "metadata": {
    "tags": []
   },
   "outputs": [],
   "source": [
    "mapper_registry = registry()\n"
   ]
  },
  {
   "cell_type": "code",
   "execution_count": 5,
   "id": "c5eee9cf-10a1-4786-9a67-ed961dc4cba9",
   "metadata": {
    "tags": []
   },
   "outputs": [],
   "source": [
    "person_table = Table(\n",
    "    \"person\",\n",
    "    mapper_registry.metadata,\n",
    "    Column(\"id\", Integer, primary_key=True),\n",
    "    Column(\"name\", Unicode),\n",
    "    Column(\"job_id\", Integer, ForeignKey(\"job.id\")),\n",
    ")"
   ]
  },
  {
   "cell_type": "code",
   "execution_count": 6,
   "id": "8b5f863f-edeb-4c11-bad8-8c3bda5fa8a1",
   "metadata": {
    "tags": []
   },
   "outputs": [],
   "source": [
    "job_table = Table(\n",
    "    \"job\", \n",
    "    mapper_registry.metadata,\n",
    "    Column(\"id\", Integer, primary_key=True), \n",
    "    Column(\"name\", Unicode)\n",
    ")"
   ]
  },
  {
   "cell_type": "code",
   "execution_count": 7,
   "id": "95253956-bdc4-4794-91a3-68193b995f86",
   "metadata": {
    "tags": []
   },
   "outputs": [],
   "source": [
    "engine = create_engine(\"sqlite:///\")\n",
    "engine.echo = True\n",
    "Session = sessionmaker(bind=engine)\n"
   ]
  },
  {
   "cell_type": "code",
   "execution_count": 8,
   "id": "bf0b0253-2fbe-4a8e-9675-437be4789858",
   "metadata": {
    "tags": []
   },
   "outputs": [
    {
     "ename": "ArgumentError",
     "evalue": "Mapper mapped class Job->job could not assemble any primary key columns for mapped table 'job'",
     "output_type": "error",
     "traceback": [
      "\u001B[0;31m---------------------------------------------------------------------------\u001B[0m",
      "\u001B[0;31mArgumentError\u001B[0m                             Traceback (most recent call last)",
      "Cell \u001B[0;32mIn[8], line 1\u001B[0m\n\u001B[0;32m----> 1\u001B[0m \u001B[43mmapper_registry\u001B[49m\u001B[38;5;241;43m.\u001B[39;49m\u001B[43mmap_imperatively\u001B[49m\u001B[43m(\u001B[49m\u001B[43mJob\u001B[49m\u001B[43m,\u001B[49m\u001B[43m \u001B[49m\u001B[43mjob_table\u001B[49m\u001B[43m)\u001B[49m\n\u001B[1;32m      2\u001B[0m mapper_registry\u001B[38;5;241m.\u001B[39mmap_imperatively(Person, person_table, properties\u001B[38;5;241m=\u001B[39m{\u001B[38;5;124m\"\u001B[39m\u001B[38;5;124mjob\u001B[39m\u001B[38;5;124m\"\u001B[39m: relationship(Job)})\n\u001B[1;32m      3\u001B[0m mapper_registry\u001B[38;5;241m.\u001B[39mmetadata\u001B[38;5;241m.\u001B[39mcreate_all(bind\u001B[38;5;241m=\u001B[39mengine)\n",
      "File \u001B[0;32m~/Documents/repos/coding/vocalpy/vocalpy/.venv/lib/python3.10/site-packages/sqlalchemy/orm/decl_api.py:999\u001B[0m, in \u001B[0;36mregistry.map_imperatively\u001B[0;34m(self, class_, local_table, **kw)\u001B[0m\n\u001B[1;32m    950\u001B[0m \u001B[38;5;28;01mdef\u001B[39;00m \u001B[38;5;21mmap_imperatively\u001B[39m(\u001B[38;5;28mself\u001B[39m, class_, local_table\u001B[38;5;241m=\u001B[39m\u001B[38;5;28;01mNone\u001B[39;00m, \u001B[38;5;241m*\u001B[39m\u001B[38;5;241m*\u001B[39mkw):\n\u001B[1;32m    951\u001B[0m \u001B[38;5;250m    \u001B[39m\u001B[38;5;124mr\u001B[39m\u001B[38;5;124;03m\"\"\"Map a class imperatively.\u001B[39;00m\n\u001B[1;32m    952\u001B[0m \n\u001B[1;32m    953\u001B[0m \u001B[38;5;124;03m    In this form of mapping, the class is not scanned for any mapping\u001B[39;00m\n\u001B[0;32m   (...)\u001B[0m\n\u001B[1;32m    997\u001B[0m \n\u001B[1;32m    998\u001B[0m \u001B[38;5;124;03m    \"\"\"\u001B[39;00m\n\u001B[0;32m--> 999\u001B[0m     \u001B[38;5;28;01mreturn\u001B[39;00m \u001B[43m_mapper\u001B[49m\u001B[43m(\u001B[49m\u001B[38;5;28;43mself\u001B[39;49m\u001B[43m,\u001B[49m\u001B[43m \u001B[49m\u001B[43mclass_\u001B[49m\u001B[43m,\u001B[49m\u001B[43m \u001B[49m\u001B[43mlocal_table\u001B[49m\u001B[43m,\u001B[49m\u001B[43m \u001B[49m\u001B[43mkw\u001B[49m\u001B[43m)\u001B[49m\n",
      "File \u001B[0;32m~/Documents/repos/coding/vocalpy/vocalpy/.venv/lib/python3.10/site-packages/sqlalchemy/orm/decl_base.py:130\u001B[0m, in \u001B[0;36m_mapper\u001B[0;34m(registry, cls, table, mapper_kw)\u001B[0m\n\u001B[1;32m    129\u001B[0m \u001B[38;5;28;01mdef\u001B[39;00m \u001B[38;5;21m_mapper\u001B[39m(registry, \u001B[38;5;28mcls\u001B[39m, table, mapper_kw):\n\u001B[0;32m--> 130\u001B[0m     \u001B[43m_ImperativeMapperConfig\u001B[49m\u001B[43m(\u001B[49m\u001B[43mregistry\u001B[49m\u001B[43m,\u001B[49m\u001B[43m \u001B[49m\u001B[38;5;28;43mcls\u001B[39;49m\u001B[43m,\u001B[49m\u001B[43m \u001B[49m\u001B[43mtable\u001B[49m\u001B[43m,\u001B[49m\u001B[43m \u001B[49m\u001B[43mmapper_kw\u001B[49m\u001B[43m)\u001B[49m\n\u001B[1;32m    131\u001B[0m     \u001B[38;5;28;01mreturn\u001B[39;00m \u001B[38;5;28mcls\u001B[39m\u001B[38;5;241m.\u001B[39m__mapper__\n",
      "File \u001B[0;32m~/Documents/repos/coding/vocalpy/vocalpy/.venv/lib/python3.10/site-packages/sqlalchemy/orm/decl_base.py:243\u001B[0m, in \u001B[0;36m_ImperativeMapperConfig.__init__\u001B[0;34m(self, registry, cls_, table, mapper_kw)\u001B[0m\n\u001B[1;32m    237\u001B[0m     clsregistry\u001B[38;5;241m.\u001B[39madd_class(\n\u001B[1;32m    238\u001B[0m         \u001B[38;5;28mself\u001B[39m\u001B[38;5;241m.\u001B[39mclassname, \u001B[38;5;28mself\u001B[39m\u001B[38;5;241m.\u001B[39mcls, registry\u001B[38;5;241m.\u001B[39m_class_registry\n\u001B[1;32m    239\u001B[0m     )\n\u001B[1;32m    241\u001B[0m \u001B[38;5;28mself\u001B[39m\u001B[38;5;241m.\u001B[39m_setup_inheritance(mapper_kw)\n\u001B[0;32m--> 243\u001B[0m \u001B[38;5;28;43mself\u001B[39;49m\u001B[38;5;241;43m.\u001B[39;49m\u001B[43m_early_mapping\u001B[49m\u001B[43m(\u001B[49m\u001B[43mmapper_kw\u001B[49m\u001B[43m)\u001B[49m\n",
      "File \u001B[0;32m~/Documents/repos/coding/vocalpy/vocalpy/.venv/lib/python3.10/site-packages/sqlalchemy/orm/decl_base.py:215\u001B[0m, in \u001B[0;36m_MapperConfig._early_mapping\u001B[0;34m(self, mapper_kw)\u001B[0m\n\u001B[1;32m    214\u001B[0m \u001B[38;5;28;01mdef\u001B[39;00m \u001B[38;5;21m_early_mapping\u001B[39m(\u001B[38;5;28mself\u001B[39m, mapper_kw):\n\u001B[0;32m--> 215\u001B[0m     \u001B[38;5;28;43mself\u001B[39;49m\u001B[38;5;241;43m.\u001B[39;49m\u001B[43mmap\u001B[49m\u001B[43m(\u001B[49m\u001B[43mmapper_kw\u001B[49m\u001B[43m)\u001B[49m\n",
      "File \u001B[0;32m~/Documents/repos/coding/vocalpy/vocalpy/.venv/lib/python3.10/site-packages/sqlalchemy/orm/decl_base.py:250\u001B[0m, in \u001B[0;36m_ImperativeMapperConfig.map\u001B[0;34m(self, mapper_kw)\u001B[0m\n\u001B[1;32m    245\u001B[0m \u001B[38;5;28;01mdef\u001B[39;00m \u001B[38;5;21mmap\u001B[39m(\u001B[38;5;28mself\u001B[39m, mapper_kw\u001B[38;5;241m=\u001B[39mutil\u001B[38;5;241m.\u001B[39mEMPTY_DICT):\n\u001B[1;32m    246\u001B[0m     mapper_cls \u001B[38;5;241m=\u001B[39m mapper\n\u001B[1;32m    248\u001B[0m     \u001B[38;5;28;01mreturn\u001B[39;00m \u001B[38;5;28mself\u001B[39m\u001B[38;5;241m.\u001B[39mset_cls_attribute(\n\u001B[1;32m    249\u001B[0m         \u001B[38;5;124m\"\u001B[39m\u001B[38;5;124m__mapper__\u001B[39m\u001B[38;5;124m\"\u001B[39m,\n\u001B[0;32m--> 250\u001B[0m         \u001B[43mmapper_cls\u001B[49m\u001B[43m(\u001B[49m\u001B[38;5;28;43mself\u001B[39;49m\u001B[38;5;241;43m.\u001B[39;49m\u001B[43mcls\u001B[49m\u001B[43m,\u001B[49m\u001B[43m \u001B[49m\u001B[38;5;28;43mself\u001B[39;49m\u001B[38;5;241;43m.\u001B[39;49m\u001B[43mlocal_table\u001B[49m\u001B[43m,\u001B[49m\u001B[43m \u001B[49m\u001B[38;5;241;43m*\u001B[39;49m\u001B[38;5;241;43m*\u001B[39;49m\u001B[43mmapper_kw\u001B[49m\u001B[43m)\u001B[49m,\n\u001B[1;32m    251\u001B[0m     )\n",
      "File \u001B[0;32m<string>:2\u001B[0m, in \u001B[0;36m__init__\u001B[0;34m(self, class_, local_table, properties, primary_key, non_primary, inherits, inherit_condition, inherit_foreign_keys, always_refresh, version_id_col, version_id_generator, polymorphic_on, _polymorphic_map, polymorphic_identity, concrete, with_polymorphic, polymorphic_load, allow_partial_pks, batch, column_prefix, include_properties, exclude_properties, passive_updates, passive_deletes, confirm_deleted_rows, eager_defaults, legacy_is_orphan, _compiled_cache_size)\u001B[0m\n",
      "File \u001B[0;32m~/Documents/repos/coding/vocalpy/vocalpy/.venv/lib/python3.10/site-packages/sqlalchemy/util/deprecations.py:375\u001B[0m, in \u001B[0;36mdeprecated_params.<locals>.decorate.<locals>.warned\u001B[0;34m(fn, *args, **kwargs)\u001B[0m\n\u001B[1;32m    368\u001B[0m     \u001B[38;5;28;01mif\u001B[39;00m m \u001B[38;5;129;01min\u001B[39;00m kwargs:\n\u001B[1;32m    369\u001B[0m         _warn_with_version(\n\u001B[1;32m    370\u001B[0m             messages[m],\n\u001B[1;32m    371\u001B[0m             versions[m],\n\u001B[1;32m    372\u001B[0m             version_warnings[m],\n\u001B[1;32m    373\u001B[0m             stacklevel\u001B[38;5;241m=\u001B[39m\u001B[38;5;241m3\u001B[39m,\n\u001B[1;32m    374\u001B[0m         )\n\u001B[0;32m--> 375\u001B[0m \u001B[38;5;28;01mreturn\u001B[39;00m \u001B[43mfn\u001B[49m\u001B[43m(\u001B[49m\u001B[38;5;241;43m*\u001B[39;49m\u001B[43margs\u001B[49m\u001B[43m,\u001B[49m\u001B[43m \u001B[49m\u001B[38;5;241;43m*\u001B[39;49m\u001B[38;5;241;43m*\u001B[39;49m\u001B[43mkwargs\u001B[49m\u001B[43m)\u001B[49m\n",
      "File \u001B[0;32m~/Documents/repos/coding/vocalpy/vocalpy/.venv/lib/python3.10/site-packages/sqlalchemy/orm/mapper.py:693\u001B[0m, in \u001B[0;36mMapper.__init__\u001B[0;34m(self, class_, local_table, properties, primary_key, non_primary, inherits, inherit_condition, inherit_foreign_keys, always_refresh, version_id_col, version_id_generator, polymorphic_on, _polymorphic_map, polymorphic_identity, concrete, with_polymorphic, polymorphic_load, allow_partial_pks, batch, column_prefix, include_properties, exclude_properties, passive_updates, passive_deletes, confirm_deleted_rows, eager_defaults, legacy_is_orphan, _compiled_cache_size)\u001B[0m\n\u001B[1;32m    691\u001B[0m \u001B[38;5;28mself\u001B[39m\u001B[38;5;241m.\u001B[39m_configure_properties()\n\u001B[1;32m    692\u001B[0m \u001B[38;5;28mself\u001B[39m\u001B[38;5;241m.\u001B[39m_configure_polymorphic_setter()\n\u001B[0;32m--> 693\u001B[0m \u001B[38;5;28;43mself\u001B[39;49m\u001B[38;5;241;43m.\u001B[39;49m\u001B[43m_configure_pks\u001B[49m\u001B[43m(\u001B[49m\u001B[43m)\u001B[49m\n\u001B[1;32m    694\u001B[0m \u001B[38;5;28mself\u001B[39m\u001B[38;5;241m.\u001B[39mregistry\u001B[38;5;241m.\u001B[39m_flag_new_mapper(\u001B[38;5;28mself\u001B[39m)\n\u001B[1;32m    695\u001B[0m \u001B[38;5;28mself\u001B[39m\u001B[38;5;241m.\u001B[39m_log(\u001B[38;5;124m\"\u001B[39m\u001B[38;5;124mconstructed\u001B[39m\u001B[38;5;124m\"\u001B[39m)\n",
      "File \u001B[0;32m~/Documents/repos/coding/vocalpy/vocalpy/.venv/lib/python3.10/site-packages/sqlalchemy/orm/mapper.py:1400\u001B[0m, in \u001B[0;36mMapper._configure_pks\u001B[0;34m(self)\u001B[0m\n\u001B[1;32m   1395\u001B[0m \u001B[38;5;66;03m# otherwise, see that we got a full PK for the mapped table\u001B[39;00m\n\u001B[1;32m   1396\u001B[0m \u001B[38;5;28;01melif\u001B[39;00m (\n\u001B[1;32m   1397\u001B[0m     \u001B[38;5;28mself\u001B[39m\u001B[38;5;241m.\u001B[39mpersist_selectable \u001B[38;5;129;01mnot\u001B[39;00m \u001B[38;5;129;01min\u001B[39;00m \u001B[38;5;28mself\u001B[39m\u001B[38;5;241m.\u001B[39m_pks_by_table\n\u001B[1;32m   1398\u001B[0m     \u001B[38;5;129;01mor\u001B[39;00m \u001B[38;5;28mlen\u001B[39m(\u001B[38;5;28mself\u001B[39m\u001B[38;5;241m.\u001B[39m_pks_by_table[\u001B[38;5;28mself\u001B[39m\u001B[38;5;241m.\u001B[39mpersist_selectable]) \u001B[38;5;241m==\u001B[39m \u001B[38;5;241m0\u001B[39m\n\u001B[1;32m   1399\u001B[0m ):\n\u001B[0;32m-> 1400\u001B[0m     \u001B[38;5;28;01mraise\u001B[39;00m sa_exc\u001B[38;5;241m.\u001B[39mArgumentError(\n\u001B[1;32m   1401\u001B[0m         \u001B[38;5;124m\"\u001B[39m\u001B[38;5;124mMapper \u001B[39m\u001B[38;5;132;01m%s\u001B[39;00m\u001B[38;5;124m could not assemble any primary \u001B[39m\u001B[38;5;124m\"\u001B[39m\n\u001B[1;32m   1402\u001B[0m         \u001B[38;5;124m\"\u001B[39m\u001B[38;5;124mkey columns for mapped table \u001B[39m\u001B[38;5;124m'\u001B[39m\u001B[38;5;132;01m%s\u001B[39;00m\u001B[38;5;124m'\u001B[39m\u001B[38;5;124m\"\u001B[39m\n\u001B[1;32m   1403\u001B[0m         \u001B[38;5;241m%\u001B[39m (\u001B[38;5;28mself\u001B[39m, \u001B[38;5;28mself\u001B[39m\u001B[38;5;241m.\u001B[39mpersist_selectable\u001B[38;5;241m.\u001B[39mdescription)\n\u001B[1;32m   1404\u001B[0m     )\n\u001B[1;32m   1405\u001B[0m \u001B[38;5;28;01melif\u001B[39;00m \u001B[38;5;28mself\u001B[39m\u001B[38;5;241m.\u001B[39mlocal_table \u001B[38;5;129;01mnot\u001B[39;00m \u001B[38;5;129;01min\u001B[39;00m \u001B[38;5;28mself\u001B[39m\u001B[38;5;241m.\u001B[39m_pks_by_table \u001B[38;5;129;01mand\u001B[39;00m \u001B[38;5;28misinstance\u001B[39m(\n\u001B[1;32m   1406\u001B[0m     \u001B[38;5;28mself\u001B[39m\u001B[38;5;241m.\u001B[39mlocal_table, schema\u001B[38;5;241m.\u001B[39mTable\n\u001B[1;32m   1407\u001B[0m ):\n\u001B[1;32m   1408\u001B[0m     util\u001B[38;5;241m.\u001B[39mwarn(\n\u001B[1;32m   1409\u001B[0m         \u001B[38;5;124m\"\u001B[39m\u001B[38;5;124mCould not assemble any primary \u001B[39m\u001B[38;5;124m\"\u001B[39m\n\u001B[1;32m   1410\u001B[0m         \u001B[38;5;124m\"\u001B[39m\u001B[38;5;124mkeys for locally mapped table \u001B[39m\u001B[38;5;124m'\u001B[39m\u001B[38;5;132;01m%s\u001B[39;00m\u001B[38;5;124m'\u001B[39m\u001B[38;5;124m - \u001B[39m\u001B[38;5;124m\"\u001B[39m\n\u001B[1;32m   1411\u001B[0m         \u001B[38;5;124m\"\u001B[39m\u001B[38;5;124mno rows will be persisted in this Table.\u001B[39m\u001B[38;5;124m\"\u001B[39m\n\u001B[1;32m   1412\u001B[0m         \u001B[38;5;241m%\u001B[39m \u001B[38;5;28mself\u001B[39m\u001B[38;5;241m.\u001B[39mlocal_table\u001B[38;5;241m.\u001B[39mdescription\n\u001B[1;32m   1413\u001B[0m     )\n",
      "\u001B[0;31mArgumentError\u001B[0m: Mapper mapped class Job->job could not assemble any primary key columns for mapped table 'job'"
     ]
    }
   ],
   "source": [
    "mapper_registry.map_imperatively(Job, job_table)\n",
    "mapper_registry.map_imperatively(Person, person_table, properties={\"job\": relationship(Job)})\n",
    "mapper_registry.metadata.create_all(bind=engine)"
   ]
  },
  {
   "cell_type": "code",
   "execution_count": 9,
   "id": "79bec9eb-2003-4d5c-b349-366eaf1e4845",
   "metadata": {
    "tags": []
   },
   "outputs": [
    {
     "ename": "AttributeError",
     "evalue": "'Job' object has no attribute '_sa_instance_state'",
     "output_type": "error",
     "traceback": [
      "\u001B[0;31m---------------------------------------------------------------------------\u001B[0m",
      "\u001B[0;31mAttributeError\u001B[0m                            Traceback (most recent call last)",
      "Cell \u001B[0;32mIn[9], line 1\u001B[0m\n\u001B[0;32m----> 1\u001B[0m j \u001B[38;5;241m=\u001B[39m \u001B[43mJob\u001B[49m\u001B[43m(\u001B[49m\u001B[43mname\u001B[49m\u001B[38;5;241;43m=\u001B[39;49m\u001B[38;5;124;43m\"\u001B[39;49m\u001B[38;5;124;43mengineer\u001B[39;49m\u001B[38;5;124;43m\"\u001B[39;49m\u001B[43m)\u001B[49m\n\u001B[1;32m      2\u001B[0m p \u001B[38;5;241m=\u001B[39m Person(name\u001B[38;5;241m=\u001B[39m\u001B[38;5;124m\"\u001B[39m\u001B[38;5;124maodag\u001B[39m\u001B[38;5;124m\"\u001B[39m, job\u001B[38;5;241m=\u001B[39mj)\n\u001B[1;32m      4\u001B[0m \u001B[38;5;28mprint\u001B[39m(p)\n",
      "File \u001B[0;32m<string>:2\u001B[0m, in \u001B[0;36m__init__\u001B[0;34m(self, id, name)\u001B[0m\n",
      "File \u001B[0;32m~/Documents/repos/coding/vocalpy/vocalpy/.venv/lib/python3.10/site-packages/sqlalchemy/orm/instrumentation.py:451\u001B[0m, in \u001B[0;36mClassManager._new_state_if_none\u001B[0;34m(self, instance)\u001B[0m\n\u001B[1;32m    449\u001B[0m \u001B[38;5;28;01melse\u001B[39;00m:\n\u001B[1;32m    450\u001B[0m     state \u001B[38;5;241m=\u001B[39m \u001B[38;5;28mself\u001B[39m\u001B[38;5;241m.\u001B[39m_state_constructor(instance, \u001B[38;5;28mself\u001B[39m)\n\u001B[0;32m--> 451\u001B[0m     \u001B[38;5;28;43mself\u001B[39;49m\u001B[38;5;241;43m.\u001B[39;49m\u001B[43m_state_setter\u001B[49m\u001B[43m(\u001B[49m\u001B[43minstance\u001B[49m\u001B[43m,\u001B[49m\u001B[43m \u001B[49m\u001B[43mstate\u001B[49m\u001B[43m)\u001B[49m\n\u001B[1;32m    452\u001B[0m     \u001B[38;5;28;01mreturn\u001B[39;00m state\n",
      "File \u001B[0;32m<string>:1\u001B[0m, in \u001B[0;36mset\u001B[0;34m(obj, value)\u001B[0m\n",
      "\u001B[0;31mAttributeError\u001B[0m: 'Job' object has no attribute '_sa_instance_state'"
     ]
    }
   ],
   "source": [
    "j = Job(name=\"engineer\")\n",
    "p = Person(name=\"aodag\", job=j)\n",
    "\n",
    "print(p)\n",
    "session = Session()\n",
    "session.add(p)\n",
    "session.flush()\n",
    "print(p)\n",
    "print([attr.asdict(p) for p in session.query(Person).all()])\n",
    "# -> [{'id': 1, 'name': 'aodag', 'job': {'id': 1, 'name': 'engineer'}}]\n"
   ]
  },
  {
   "cell_type": "code",
   "execution_count": null,
   "id": "ccd7be31-d5a1-4c39-85d0-bdd9564df374",
   "metadata": {},
   "outputs": [],
   "source": []
  }
 ],
 "metadata": {
  "kernelspec": {
   "display_name": "Python 3 (ipykernel)",
   "language": "python",
   "name": "python3"
  },
  "language_info": {
   "codemirror_mode": {
    "name": "ipython",
    "version": 3
   },
   "file_extension": ".py",
   "mimetype": "text/x-python",
   "name": "python",
   "nbconvert_exporter": "python",
   "pygments_lexer": "ipython3",
   "version": "3.10.10"
  }
 },
 "nbformat": 4,
 "nbformat_minor": 5
}
